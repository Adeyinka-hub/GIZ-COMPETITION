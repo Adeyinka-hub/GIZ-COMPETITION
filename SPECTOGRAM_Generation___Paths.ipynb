{
  "nbformat": 4,
  "nbformat_minor": 0,
  "metadata": {
    "colab": {
      "name": "SPECTOGRAM-Generation | Paths ",
      "provenance": []
    },
    "kernelspec": {
      "name": "python3",
      "display_name": "Python 3"
    },
    "accelerator": "GPU",
    "widgets": {
      "application/vnd.jupyter.widget-state+json": {
        "0401d383ed7d4cad9f5a6711818cec2f": {
          "model_module": "@jupyter-widgets/controls",
          "model_name": "HBoxModel",
          "state": {
            "_view_name": "HBoxView",
            "_dom_classes": [],
            "_model_name": "HBoxModel",
            "_view_module": "@jupyter-widgets/controls",
            "_model_module_version": "1.5.0",
            "_view_count": null,
            "_view_module_version": "1.5.0",
            "box_style": "",
            "layout": "IPY_MODEL_f7bcacd2e35c4eacbe538ed765a5dee9",
            "_model_module": "@jupyter-widgets/controls",
            "children": [
              "IPY_MODEL_82f74f9edd464756914d1a5ecaf36fa4",
              "IPY_MODEL_78b25c375d254dbba111468cee16476b"
            ]
          }
        },
        "f7bcacd2e35c4eacbe538ed765a5dee9": {
          "model_module": "@jupyter-widgets/base",
          "model_name": "LayoutModel",
          "state": {
            "_view_name": "LayoutView",
            "grid_template_rows": null,
            "right": null,
            "justify_content": null,
            "_view_module": "@jupyter-widgets/base",
            "overflow": null,
            "_model_module_version": "1.2.0",
            "_view_count": null,
            "flex_flow": null,
            "width": null,
            "min_width": null,
            "border": null,
            "align_items": null,
            "bottom": null,
            "_model_module": "@jupyter-widgets/base",
            "top": null,
            "grid_column": null,
            "overflow_y": null,
            "overflow_x": null,
            "grid_auto_flow": null,
            "grid_area": null,
            "grid_template_columns": null,
            "flex": null,
            "_model_name": "LayoutModel",
            "justify_items": null,
            "grid_row": null,
            "max_height": null,
            "align_content": null,
            "visibility": null,
            "align_self": null,
            "height": null,
            "min_height": null,
            "padding": null,
            "grid_auto_rows": null,
            "grid_gap": null,
            "max_width": null,
            "order": null,
            "_view_module_version": "1.2.0",
            "grid_template_areas": null,
            "object_position": null,
            "object_fit": null,
            "grid_auto_columns": null,
            "margin": null,
            "display": null,
            "left": null
          }
        },
        "82f74f9edd464756914d1a5ecaf36fa4": {
          "model_module": "@jupyter-widgets/controls",
          "model_name": "FloatProgressModel",
          "state": {
            "_view_name": "ProgressView",
            "style": "IPY_MODEL_6fe116757ae44b5e87ce7e48ceec3dd4",
            "_dom_classes": [],
            "description": "100%",
            "_model_name": "FloatProgressModel",
            "bar_style": "success",
            "max": 129,
            "_view_module": "@jupyter-widgets/controls",
            "_model_module_version": "1.5.0",
            "value": 129,
            "_view_count": null,
            "_view_module_version": "1.5.0",
            "orientation": "horizontal",
            "min": 0,
            "description_tooltip": null,
            "_model_module": "@jupyter-widgets/controls",
            "layout": "IPY_MODEL_c39b9f16418e4aa29afacc288d9c3662"
          }
        },
        "78b25c375d254dbba111468cee16476b": {
          "model_module": "@jupyter-widgets/controls",
          "model_name": "HTMLModel",
          "state": {
            "_view_name": "HTMLView",
            "style": "IPY_MODEL_c8e563791744465ba148c8172ddbc39b",
            "_dom_classes": [],
            "description": "",
            "_model_name": "HTMLModel",
            "placeholder": "​",
            "_view_module": "@jupyter-widgets/controls",
            "_model_module_version": "1.5.0",
            "value": " 129/129 [00:21&lt;00:00,  5.89it/s]",
            "_view_count": null,
            "_view_module_version": "1.5.0",
            "description_tooltip": null,
            "_model_module": "@jupyter-widgets/controls",
            "layout": "IPY_MODEL_9f4356ac2e2b4991b35d2ba5c34e199e"
          }
        },
        "6fe116757ae44b5e87ce7e48ceec3dd4": {
          "model_module": "@jupyter-widgets/controls",
          "model_name": "ProgressStyleModel",
          "state": {
            "_view_name": "StyleView",
            "_model_name": "ProgressStyleModel",
            "description_width": "initial",
            "_view_module": "@jupyter-widgets/base",
            "_model_module_version": "1.5.0",
            "_view_count": null,
            "_view_module_version": "1.2.0",
            "bar_color": null,
            "_model_module": "@jupyter-widgets/controls"
          }
        },
        "c39b9f16418e4aa29afacc288d9c3662": {
          "model_module": "@jupyter-widgets/base",
          "model_name": "LayoutModel",
          "state": {
            "_view_name": "LayoutView",
            "grid_template_rows": null,
            "right": null,
            "justify_content": null,
            "_view_module": "@jupyter-widgets/base",
            "overflow": null,
            "_model_module_version": "1.2.0",
            "_view_count": null,
            "flex_flow": null,
            "width": null,
            "min_width": null,
            "border": null,
            "align_items": null,
            "bottom": null,
            "_model_module": "@jupyter-widgets/base",
            "top": null,
            "grid_column": null,
            "overflow_y": null,
            "overflow_x": null,
            "grid_auto_flow": null,
            "grid_area": null,
            "grid_template_columns": null,
            "flex": null,
            "_model_name": "LayoutModel",
            "justify_items": null,
            "grid_row": null,
            "max_height": null,
            "align_content": null,
            "visibility": null,
            "align_self": null,
            "height": null,
            "min_height": null,
            "padding": null,
            "grid_auto_rows": null,
            "grid_gap": null,
            "max_width": null,
            "order": null,
            "_view_module_version": "1.2.0",
            "grid_template_areas": null,
            "object_position": null,
            "object_fit": null,
            "grid_auto_columns": null,
            "margin": null,
            "display": null,
            "left": null
          }
        },
        "c8e563791744465ba148c8172ddbc39b": {
          "model_module": "@jupyter-widgets/controls",
          "model_name": "DescriptionStyleModel",
          "state": {
            "_view_name": "StyleView",
            "_model_name": "DescriptionStyleModel",
            "description_width": "",
            "_view_module": "@jupyter-widgets/base",
            "_model_module_version": "1.5.0",
            "_view_count": null,
            "_view_module_version": "1.2.0",
            "_model_module": "@jupyter-widgets/controls"
          }
        },
        "9f4356ac2e2b4991b35d2ba5c34e199e": {
          "model_module": "@jupyter-widgets/base",
          "model_name": "LayoutModel",
          "state": {
            "_view_name": "LayoutView",
            "grid_template_rows": null,
            "right": null,
            "justify_content": null,
            "_view_module": "@jupyter-widgets/base",
            "overflow": null,
            "_model_module_version": "1.2.0",
            "_view_count": null,
            "flex_flow": null,
            "width": null,
            "min_width": null,
            "border": null,
            "align_items": null,
            "bottom": null,
            "_model_module": "@jupyter-widgets/base",
            "top": null,
            "grid_column": null,
            "overflow_y": null,
            "overflow_x": null,
            "grid_auto_flow": null,
            "grid_area": null,
            "grid_template_columns": null,
            "flex": null,
            "_model_name": "LayoutModel",
            "justify_items": null,
            "grid_row": null,
            "max_height": null,
            "align_content": null,
            "visibility": null,
            "align_self": null,
            "height": null,
            "min_height": null,
            "padding": null,
            "grid_auto_rows": null,
            "grid_gap": null,
            "max_width": null,
            "order": null,
            "_view_module_version": "1.2.0",
            "grid_template_areas": null,
            "object_position": null,
            "object_fit": null,
            "grid_auto_columns": null,
            "margin": null,
            "display": null,
            "left": null
          }
        },
        "6429b625bff44005b4c4447d1bdf01cd": {
          "model_module": "@jupyter-widgets/controls",
          "model_name": "HBoxModel",
          "state": {
            "_view_name": "HBoxView",
            "_dom_classes": [],
            "_model_name": "HBoxModel",
            "_view_module": "@jupyter-widgets/controls",
            "_model_module_version": "1.5.0",
            "_view_count": null,
            "_view_module_version": "1.5.0",
            "box_style": "",
            "layout": "IPY_MODEL_eb20b97e24a34958b357873f125df387",
            "_model_module": "@jupyter-widgets/controls",
            "children": [
              "IPY_MODEL_f6bc508930e34be19d638c402f063c24",
              "IPY_MODEL_fc710eea8a39406f902e4247e524bf39"
            ]
          }
        },
        "eb20b97e24a34958b357873f125df387": {
          "model_module": "@jupyter-widgets/base",
          "model_name": "LayoutModel",
          "state": {
            "_view_name": "LayoutView",
            "grid_template_rows": null,
            "right": null,
            "justify_content": null,
            "_view_module": "@jupyter-widgets/base",
            "overflow": null,
            "_model_module_version": "1.2.0",
            "_view_count": null,
            "flex_flow": null,
            "width": null,
            "min_width": null,
            "border": null,
            "align_items": null,
            "bottom": null,
            "_model_module": "@jupyter-widgets/base",
            "top": null,
            "grid_column": null,
            "overflow_y": null,
            "overflow_x": null,
            "grid_auto_flow": null,
            "grid_area": null,
            "grid_template_columns": null,
            "flex": null,
            "_model_name": "LayoutModel",
            "justify_items": null,
            "grid_row": null,
            "max_height": null,
            "align_content": null,
            "visibility": null,
            "align_self": null,
            "height": null,
            "min_height": null,
            "padding": null,
            "grid_auto_rows": null,
            "grid_gap": null,
            "max_width": null,
            "order": null,
            "_view_module_version": "1.2.0",
            "grid_template_areas": null,
            "object_position": null,
            "object_fit": null,
            "grid_auto_columns": null,
            "margin": null,
            "display": null,
            "left": null
          }
        },
        "f6bc508930e34be19d638c402f063c24": {
          "model_module": "@jupyter-widgets/controls",
          "model_name": "FloatProgressModel",
          "state": {
            "_view_name": "ProgressView",
            "style": "IPY_MODEL_b338132f6b2c4ced811fa972b9dae277",
            "_dom_classes": [],
            "description": "100%",
            "_model_name": "FloatProgressModel",
            "bar_style": "success",
            "max": 122,
            "_view_module": "@jupyter-widgets/controls",
            "_model_module_version": "1.5.0",
            "value": 122,
            "_view_count": null,
            "_view_module_version": "1.5.0",
            "orientation": "horizontal",
            "min": 0,
            "description_tooltip": null,
            "_model_module": "@jupyter-widgets/controls",
            "layout": "IPY_MODEL_86edf40d540b4db3a1b58debe7612f3f"
          }
        },
        "fc710eea8a39406f902e4247e524bf39": {
          "model_module": "@jupyter-widgets/controls",
          "model_name": "HTMLModel",
          "state": {
            "_view_name": "HTMLView",
            "style": "IPY_MODEL_c35ffee30a884720a45c86eaded88071",
            "_dom_classes": [],
            "description": "",
            "_model_name": "HTMLModel",
            "placeholder": "​",
            "_view_module": "@jupyter-widgets/controls",
            "_model_module_version": "1.5.0",
            "value": " 122/122 [00:02&lt;00:00, 43.46it/s]",
            "_view_count": null,
            "_view_module_version": "1.5.0",
            "description_tooltip": null,
            "_model_module": "@jupyter-widgets/controls",
            "layout": "IPY_MODEL_83015ae396ec43f3b6d9199f8af76e0d"
          }
        },
        "b338132f6b2c4ced811fa972b9dae277": {
          "model_module": "@jupyter-widgets/controls",
          "model_name": "ProgressStyleModel",
          "state": {
            "_view_name": "StyleView",
            "_model_name": "ProgressStyleModel",
            "description_width": "initial",
            "_view_module": "@jupyter-widgets/base",
            "_model_module_version": "1.5.0",
            "_view_count": null,
            "_view_module_version": "1.2.0",
            "bar_color": null,
            "_model_module": "@jupyter-widgets/controls"
          }
        },
        "86edf40d540b4db3a1b58debe7612f3f": {
          "model_module": "@jupyter-widgets/base",
          "model_name": "LayoutModel",
          "state": {
            "_view_name": "LayoutView",
            "grid_template_rows": null,
            "right": null,
            "justify_content": null,
            "_view_module": "@jupyter-widgets/base",
            "overflow": null,
            "_model_module_version": "1.2.0",
            "_view_count": null,
            "flex_flow": null,
            "width": null,
            "min_width": null,
            "border": null,
            "align_items": null,
            "bottom": null,
            "_model_module": "@jupyter-widgets/base",
            "top": null,
            "grid_column": null,
            "overflow_y": null,
            "overflow_x": null,
            "grid_auto_flow": null,
            "grid_area": null,
            "grid_template_columns": null,
            "flex": null,
            "_model_name": "LayoutModel",
            "justify_items": null,
            "grid_row": null,
            "max_height": null,
            "align_content": null,
            "visibility": null,
            "align_self": null,
            "height": null,
            "min_height": null,
            "padding": null,
            "grid_auto_rows": null,
            "grid_gap": null,
            "max_width": null,
            "order": null,
            "_view_module_version": "1.2.0",
            "grid_template_areas": null,
            "object_position": null,
            "object_fit": null,
            "grid_auto_columns": null,
            "margin": null,
            "display": null,
            "left": null
          }
        },
        "c35ffee30a884720a45c86eaded88071": {
          "model_module": "@jupyter-widgets/controls",
          "model_name": "DescriptionStyleModel",
          "state": {
            "_view_name": "StyleView",
            "_model_name": "DescriptionStyleModel",
            "description_width": "",
            "_view_module": "@jupyter-widgets/base",
            "_model_module_version": "1.5.0",
            "_view_count": null,
            "_view_module_version": "1.2.0",
            "_model_module": "@jupyter-widgets/controls"
          }
        },
        "83015ae396ec43f3b6d9199f8af76e0d": {
          "model_module": "@jupyter-widgets/base",
          "model_name": "LayoutModel",
          "state": {
            "_view_name": "LayoutView",
            "grid_template_rows": null,
            "right": null,
            "justify_content": null,
            "_view_module": "@jupyter-widgets/base",
            "overflow": null,
            "_model_module_version": "1.2.0",
            "_view_count": null,
            "flex_flow": null,
            "width": null,
            "min_width": null,
            "border": null,
            "align_items": null,
            "bottom": null,
            "_model_module": "@jupyter-widgets/base",
            "top": null,
            "grid_column": null,
            "overflow_y": null,
            "overflow_x": null,
            "grid_auto_flow": null,
            "grid_area": null,
            "grid_template_columns": null,
            "flex": null,
            "_model_name": "LayoutModel",
            "justify_items": null,
            "grid_row": null,
            "max_height": null,
            "align_content": null,
            "visibility": null,
            "align_self": null,
            "height": null,
            "min_height": null,
            "padding": null,
            "grid_auto_rows": null,
            "grid_gap": null,
            "max_width": null,
            "order": null,
            "_view_module_version": "1.2.0",
            "grid_template_areas": null,
            "object_position": null,
            "object_fit": null,
            "grid_auto_columns": null,
            "margin": null,
            "display": null,
            "left": null
          }
        },
        "a5175637467045858fbd2b128e4fab4d": {
          "model_module": "@jupyter-widgets/controls",
          "model_name": "HBoxModel",
          "state": {
            "_view_name": "HBoxView",
            "_dom_classes": [],
            "_model_name": "HBoxModel",
            "_view_module": "@jupyter-widgets/controls",
            "_model_module_version": "1.5.0",
            "_view_count": null,
            "_view_module_version": "1.5.0",
            "box_style": "",
            "layout": "IPY_MODEL_f22b52a968e24ef8bf2f41904de4ef12",
            "_model_module": "@jupyter-widgets/controls",
            "children": [
              "IPY_MODEL_8a67c5c8a27848bcaabbfad81edb4dbd",
              "IPY_MODEL_0ec2819ca3cc4286989068dac08d07c5"
            ]
          }
        },
        "f22b52a968e24ef8bf2f41904de4ef12": {
          "model_module": "@jupyter-widgets/base",
          "model_name": "LayoutModel",
          "state": {
            "_view_name": "LayoutView",
            "grid_template_rows": null,
            "right": null,
            "justify_content": null,
            "_view_module": "@jupyter-widgets/base",
            "overflow": null,
            "_model_module_version": "1.2.0",
            "_view_count": null,
            "flex_flow": null,
            "width": null,
            "min_width": null,
            "border": null,
            "align_items": null,
            "bottom": null,
            "_model_module": "@jupyter-widgets/base",
            "top": null,
            "grid_column": null,
            "overflow_y": null,
            "overflow_x": null,
            "grid_auto_flow": null,
            "grid_area": null,
            "grid_template_columns": null,
            "flex": null,
            "_model_name": "LayoutModel",
            "justify_items": null,
            "grid_row": null,
            "max_height": null,
            "align_content": null,
            "visibility": null,
            "align_self": null,
            "height": null,
            "min_height": null,
            "padding": null,
            "grid_auto_rows": null,
            "grid_gap": null,
            "max_width": null,
            "order": null,
            "_view_module_version": "1.2.0",
            "grid_template_areas": null,
            "object_position": null,
            "object_fit": null,
            "grid_auto_columns": null,
            "margin": null,
            "display": null,
            "left": null
          }
        },
        "8a67c5c8a27848bcaabbfad81edb4dbd": {
          "model_module": "@jupyter-widgets/controls",
          "model_name": "FloatProgressModel",
          "state": {
            "_view_name": "ProgressView",
            "style": "IPY_MODEL_645dcab013184b6c823f50477f9a7827",
            "_dom_classes": [],
            "description": "100%",
            "_model_name": "FloatProgressModel",
            "bar_style": "success",
            "max": 1109,
            "_view_module": "@jupyter-widgets/controls",
            "_model_module_version": "1.5.0",
            "value": 1109,
            "_view_count": null,
            "_view_module_version": "1.5.0",
            "orientation": "horizontal",
            "min": 0,
            "description_tooltip": null,
            "_model_module": "@jupyter-widgets/controls",
            "layout": "IPY_MODEL_8241ee2411d9450c97848d70dee1dfab"
          }
        },
        "0ec2819ca3cc4286989068dac08d07c5": {
          "model_module": "@jupyter-widgets/controls",
          "model_name": "HTMLModel",
          "state": {
            "_view_name": "HTMLView",
            "style": "IPY_MODEL_56546ce037284e5fa2984df130171c22",
            "_dom_classes": [],
            "description": "",
            "_model_name": "HTMLModel",
            "placeholder": "​",
            "_view_module": "@jupyter-widgets/controls",
            "_model_module_version": "1.5.0",
            "value": " 1109/1109 [00:01&lt;00:00, 671.94it/s]",
            "_view_count": null,
            "_view_module_version": "1.5.0",
            "description_tooltip": null,
            "_model_module": "@jupyter-widgets/controls",
            "layout": "IPY_MODEL_64809bd6ce3e4ec08c0d32afe70260f1"
          }
        },
        "645dcab013184b6c823f50477f9a7827": {
          "model_module": "@jupyter-widgets/controls",
          "model_name": "ProgressStyleModel",
          "state": {
            "_view_name": "StyleView",
            "_model_name": "ProgressStyleModel",
            "description_width": "initial",
            "_view_module": "@jupyter-widgets/base",
            "_model_module_version": "1.5.0",
            "_view_count": null,
            "_view_module_version": "1.2.0",
            "bar_color": null,
            "_model_module": "@jupyter-widgets/controls"
          }
        },
        "8241ee2411d9450c97848d70dee1dfab": {
          "model_module": "@jupyter-widgets/base",
          "model_name": "LayoutModel",
          "state": {
            "_view_name": "LayoutView",
            "grid_template_rows": null,
            "right": null,
            "justify_content": null,
            "_view_module": "@jupyter-widgets/base",
            "overflow": null,
            "_model_module_version": "1.2.0",
            "_view_count": null,
            "flex_flow": null,
            "width": null,
            "min_width": null,
            "border": null,
            "align_items": null,
            "bottom": null,
            "_model_module": "@jupyter-widgets/base",
            "top": null,
            "grid_column": null,
            "overflow_y": null,
            "overflow_x": null,
            "grid_auto_flow": null,
            "grid_area": null,
            "grid_template_columns": null,
            "flex": null,
            "_model_name": "LayoutModel",
            "justify_items": null,
            "grid_row": null,
            "max_height": null,
            "align_content": null,
            "visibility": null,
            "align_self": null,
            "height": null,
            "min_height": null,
            "padding": null,
            "grid_auto_rows": null,
            "grid_gap": null,
            "max_width": null,
            "order": null,
            "_view_module_version": "1.2.0",
            "grid_template_areas": null,
            "object_position": null,
            "object_fit": null,
            "grid_auto_columns": null,
            "margin": null,
            "display": null,
            "left": null
          }
        },
        "56546ce037284e5fa2984df130171c22": {
          "model_module": "@jupyter-widgets/controls",
          "model_name": "DescriptionStyleModel",
          "state": {
            "_view_name": "StyleView",
            "_model_name": "DescriptionStyleModel",
            "description_width": "",
            "_view_module": "@jupyter-widgets/base",
            "_model_module_version": "1.5.0",
            "_view_count": null,
            "_view_module_version": "1.2.0",
            "_model_module": "@jupyter-widgets/controls"
          }
        },
        "64809bd6ce3e4ec08c0d32afe70260f1": {
          "model_module": "@jupyter-widgets/base",
          "model_name": "LayoutModel",
          "state": {
            "_view_name": "LayoutView",
            "grid_template_rows": null,
            "right": null,
            "justify_content": null,
            "_view_module": "@jupyter-widgets/base",
            "overflow": null,
            "_model_module_version": "1.2.0",
            "_view_count": null,
            "flex_flow": null,
            "width": null,
            "min_width": null,
            "border": null,
            "align_items": null,
            "bottom": null,
            "_model_module": "@jupyter-widgets/base",
            "top": null,
            "grid_column": null,
            "overflow_y": null,
            "overflow_x": null,
            "grid_auto_flow": null,
            "grid_area": null,
            "grid_template_columns": null,
            "flex": null,
            "_model_name": "LayoutModel",
            "justify_items": null,
            "grid_row": null,
            "max_height": null,
            "align_content": null,
            "visibility": null,
            "align_self": null,
            "height": null,
            "min_height": null,
            "padding": null,
            "grid_auto_rows": null,
            "grid_gap": null,
            "max_width": null,
            "order": null,
            "_view_module_version": "1.2.0",
            "grid_template_areas": null,
            "object_position": null,
            "object_fit": null,
            "grid_auto_columns": null,
            "margin": null,
            "display": null,
            "left": null
          }
        },
        "69b7faf84c3241faa9a118486bb9a44b": {
          "model_module": "@jupyter-widgets/controls",
          "model_name": "HBoxModel",
          "state": {
            "_view_name": "HBoxView",
            "_dom_classes": [],
            "_model_name": "HBoxModel",
            "_view_module": "@jupyter-widgets/controls",
            "_model_module_version": "1.5.0",
            "_view_count": null,
            "_view_module_version": "1.5.0",
            "box_style": "",
            "layout": "IPY_MODEL_6b0d705998de41b1807a8c51b962bbcb",
            "_model_module": "@jupyter-widgets/controls",
            "children": [
              "IPY_MODEL_a36709094d07403088c3bb22e6777e36",
              "IPY_MODEL_789452dab5b4494281286a68425fc4ed"
            ]
          }
        },
        "6b0d705998de41b1807a8c51b962bbcb": {
          "model_module": "@jupyter-widgets/base",
          "model_name": "LayoutModel",
          "state": {
            "_view_name": "LayoutView",
            "grid_template_rows": null,
            "right": null,
            "justify_content": null,
            "_view_module": "@jupyter-widgets/base",
            "overflow": null,
            "_model_module_version": "1.2.0",
            "_view_count": null,
            "flex_flow": null,
            "width": null,
            "min_width": null,
            "border": null,
            "align_items": null,
            "bottom": null,
            "_model_module": "@jupyter-widgets/base",
            "top": null,
            "grid_column": null,
            "overflow_y": null,
            "overflow_x": null,
            "grid_auto_flow": null,
            "grid_area": null,
            "grid_template_columns": null,
            "flex": null,
            "_model_name": "LayoutModel",
            "justify_items": null,
            "grid_row": null,
            "max_height": null,
            "align_content": null,
            "visibility": null,
            "align_self": null,
            "height": null,
            "min_height": null,
            "padding": null,
            "grid_auto_rows": null,
            "grid_gap": null,
            "max_width": null,
            "order": null,
            "_view_module_version": "1.2.0",
            "grid_template_areas": null,
            "object_position": null,
            "object_fit": null,
            "grid_auto_columns": null,
            "margin": null,
            "display": null,
            "left": null
          }
        },
        "a36709094d07403088c3bb22e6777e36": {
          "model_module": "@jupyter-widgets/controls",
          "model_name": "FloatProgressModel",
          "state": {
            "_view_name": "ProgressView",
            "style": "IPY_MODEL_7947705137404765838414120f9311b2",
            "_dom_classes": [],
            "description": "100%",
            "_model_name": "FloatProgressModel",
            "bar_style": "success",
            "max": 3478,
            "_view_module": "@jupyter-widgets/controls",
            "_model_module_version": "1.5.0",
            "value": 3478,
            "_view_count": null,
            "_view_module_version": "1.5.0",
            "orientation": "horizontal",
            "min": 0,
            "description_tooltip": null,
            "_model_module": "@jupyter-widgets/controls",
            "layout": "IPY_MODEL_09cd22a24f994cefacc0c2be3887e283"
          }
        },
        "789452dab5b4494281286a68425fc4ed": {
          "model_module": "@jupyter-widgets/controls",
          "model_name": "HTMLModel",
          "state": {
            "_view_name": "HTMLView",
            "style": "IPY_MODEL_2dedf25f0b0b4f8198f1c423f43379fb",
            "_dom_classes": [],
            "description": "",
            "_model_name": "HTMLModel",
            "placeholder": "​",
            "_view_module": "@jupyter-widgets/controls",
            "_model_module_version": "1.5.0",
            "value": " 3478/3478 [00:01&lt;00:00, 1988.03it/s]",
            "_view_count": null,
            "_view_module_version": "1.5.0",
            "description_tooltip": null,
            "_model_module": "@jupyter-widgets/controls",
            "layout": "IPY_MODEL_278222b7a5294c209ae6026c99f0c090"
          }
        },
        "7947705137404765838414120f9311b2": {
          "model_module": "@jupyter-widgets/controls",
          "model_name": "ProgressStyleModel",
          "state": {
            "_view_name": "StyleView",
            "_model_name": "ProgressStyleModel",
            "description_width": "initial",
            "_view_module": "@jupyter-widgets/base",
            "_model_module_version": "1.5.0",
            "_view_count": null,
            "_view_module_version": "1.2.0",
            "bar_color": null,
            "_model_module": "@jupyter-widgets/controls"
          }
        },
        "09cd22a24f994cefacc0c2be3887e283": {
          "model_module": "@jupyter-widgets/base",
          "model_name": "LayoutModel",
          "state": {
            "_view_name": "LayoutView",
            "grid_template_rows": null,
            "right": null,
            "justify_content": null,
            "_view_module": "@jupyter-widgets/base",
            "overflow": null,
            "_model_module_version": "1.2.0",
            "_view_count": null,
            "flex_flow": null,
            "width": null,
            "min_width": null,
            "border": null,
            "align_items": null,
            "bottom": null,
            "_model_module": "@jupyter-widgets/base",
            "top": null,
            "grid_column": null,
            "overflow_y": null,
            "overflow_x": null,
            "grid_auto_flow": null,
            "grid_area": null,
            "grid_template_columns": null,
            "flex": null,
            "_model_name": "LayoutModel",
            "justify_items": null,
            "grid_row": null,
            "max_height": null,
            "align_content": null,
            "visibility": null,
            "align_self": null,
            "height": null,
            "min_height": null,
            "padding": null,
            "grid_auto_rows": null,
            "grid_gap": null,
            "max_width": null,
            "order": null,
            "_view_module_version": "1.2.0",
            "grid_template_areas": null,
            "object_position": null,
            "object_fit": null,
            "grid_auto_columns": null,
            "margin": null,
            "display": null,
            "left": null
          }
        },
        "2dedf25f0b0b4f8198f1c423f43379fb": {
          "model_module": "@jupyter-widgets/controls",
          "model_name": "DescriptionStyleModel",
          "state": {
            "_view_name": "StyleView",
            "_model_name": "DescriptionStyleModel",
            "description_width": "",
            "_view_module": "@jupyter-widgets/base",
            "_model_module_version": "1.5.0",
            "_view_count": null,
            "_view_module_version": "1.2.0",
            "_model_module": "@jupyter-widgets/controls"
          }
        },
        "278222b7a5294c209ae6026c99f0c090": {
          "model_module": "@jupyter-widgets/base",
          "model_name": "LayoutModel",
          "state": {
            "_view_name": "LayoutView",
            "grid_template_rows": null,
            "right": null,
            "justify_content": null,
            "_view_module": "@jupyter-widgets/base",
            "overflow": null,
            "_model_module_version": "1.2.0",
            "_view_count": null,
            "flex_flow": null,
            "width": null,
            "min_width": null,
            "border": null,
            "align_items": null,
            "bottom": null,
            "_model_module": "@jupyter-widgets/base",
            "top": null,
            "grid_column": null,
            "overflow_y": null,
            "overflow_x": null,
            "grid_auto_flow": null,
            "grid_area": null,
            "grid_template_columns": null,
            "flex": null,
            "_model_name": "LayoutModel",
            "justify_items": null,
            "grid_row": null,
            "max_height": null,
            "align_content": null,
            "visibility": null,
            "align_self": null,
            "height": null,
            "min_height": null,
            "padding": null,
            "grid_auto_rows": null,
            "grid_gap": null,
            "max_width": null,
            "order": null,
            "_view_module_version": "1.2.0",
            "grid_template_areas": null,
            "object_position": null,
            "object_fit": null,
            "grid_auto_columns": null,
            "margin": null,
            "display": null,
            "left": null
          }
        }
      }
    }
  },
  "cells": [
    {
      "cell_type": "markdown",
      "metadata": {
        "id": "dj6ClNh29kJQ"
      },
      "source": [
        "# **Setup**"
      ]
    },
    {
      "cell_type": "code",
      "metadata": {
        "id": "gjk86SJu-27N",
        "colab": {
          "base_uri": "https://localhost:8080/"
        },
        "outputId": "a01a45e1-d225-4f5d-fd9c-5482d97ab351"
      },
      "source": [
        "!nvidia-smi"
      ],
      "execution_count": null,
      "outputs": [
        {
          "output_type": "stream",
          "text": [
            "Fri Nov 20 13:00:48 2020       \n",
            "+-----------------------------------------------------------------------------+\n",
            "| NVIDIA-SMI 455.38       Driver Version: 418.67       CUDA Version: 10.1     |\n",
            "|-------------------------------+----------------------+----------------------+\n",
            "| GPU  Name        Persistence-M| Bus-Id        Disp.A | Volatile Uncorr. ECC |\n",
            "| Fan  Temp  Perf  Pwr:Usage/Cap|         Memory-Usage | GPU-Util  Compute M. |\n",
            "|                               |                      |               MIG M. |\n",
            "|===============================+======================+======================|\n",
            "|   0  Tesla T4            Off  | 00000000:00:04.0 Off |                    0 |\n",
            "| N/A   55C    P8    11W /  70W |      0MiB / 15079MiB |      0%      Default |\n",
            "|                               |                      |                 ERR! |\n",
            "+-------------------------------+----------------------+----------------------+\n",
            "                                                                               \n",
            "+-----------------------------------------------------------------------------+\n",
            "| Processes:                                                                  |\n",
            "|  GPU   GI   CI        PID   Type   Process name                  GPU Memory |\n",
            "|        ID   ID                                                   Usage      |\n",
            "|=============================================================================|\n",
            "|  No running processes found                                                 |\n",
            "+-----------------------------------------------------------------------------+\n"
          ],
          "name": "stdout"
        }
      ]
    },
    {
      "cell_type": "code",
      "metadata": {
        "id": "oRuYHtWt9eG8",
        "colab": {
          "base_uri": "https://localhost:8080/"
        },
        "outputId": "678f4fa2-62b4-4f65-b4e5-775e9ac6ea96"
      },
      "source": [
        "from google.colab import drive\n",
        "drive.mount('/content/drive')"
      ],
      "execution_count": null,
      "outputs": [
        {
          "output_type": "stream",
          "text": [
            "Mounted at /content/drive\n"
          ],
          "name": "stdout"
        }
      ]
    },
    {
      "cell_type": "code",
      "metadata": {
        "id": "NX4y2Uzh-hwL",
        "colab": {
          "base_uri": "https://localhost:8080/"
        },
        "outputId": "6b4b3056-910c-4b13-e56f-7c3db6754ed4"
      },
      "source": [
        "!pip install efficientnet_pytorch -q\n",
        "!pip install pretrainedmodels -q\n",
        "!pip install librosa -U --quiet\n",
        "!pip install pytorch-lightning -q"
      ],
      "execution_count": null,
      "outputs": [
        {
          "output_type": "stream",
          "text": [
            "  Building wheel for efficientnet-pytorch (setup.py) ... \u001b[?25l\u001b[?25hdone\n",
            "\u001b[K     |████████████████████████████████| 61kB 5.7MB/s \n",
            "\u001b[?25h  Building wheel for pretrainedmodels (setup.py) ... \u001b[?25l\u001b[?25hdone\n",
            "\u001b[K     |████████████████████████████████| 184kB 7.3MB/s \n",
            "\u001b[K     |████████████████████████████████| 51kB 6.5MB/s \n",
            "\u001b[?25h  Building wheel for librosa (setup.py) ... \u001b[?25l\u001b[?25hdone\n",
            "\u001b[K     |████████████████████████████████| 563kB 8.3MB/s \n",
            "\u001b[K     |████████████████████████████████| 276kB 29.6MB/s \n",
            "\u001b[K     |████████████████████████████████| 92kB 11.9MB/s \n",
            "\u001b[K     |████████████████████████████████| 829kB 31.0MB/s \n",
            "\u001b[?25h  Building wheel for PyYAML (setup.py) ... \u001b[?25l\u001b[?25hdone\n",
            "  Building wheel for future (setup.py) ... \u001b[?25l\u001b[?25hdone\n"
          ],
          "name": "stdout"
        }
      ]
    },
    {
      "cell_type": "markdown",
      "metadata": {
        "id": "i7Zd0zXE3AG3"
      },
      "source": [
        "\n",
        "\n",
        "### > **Get audio_files.zip**\n",
        "\n"
      ]
    },
    {
      "cell_type": "code",
      "metadata": {
        "id": "y3zVLG0r9oVO"
      },
      "source": [
        "!unzip -q \"/content/drive/My Drive/Giz_NLP_AUDIO/audio_files.zip\""
      ],
      "execution_count": null,
      "outputs": []
    },
    {
      "cell_type": "markdown",
      "metadata": {
        "id": "dDl56F0693al"
      },
      "source": [
        "# **Libraries**"
      ]
    },
    {
      "cell_type": "code",
      "metadata": {
        "id": "hlWaJmK3943-"
      },
      "source": [
        "import os\n",
        "import numpy as np\n",
        "import pandas as pd\n",
        "import sys\n",
        "import cv2\n",
        "import glob\n",
        "import math\n",
        "import random\n",
        "import librosa\n",
        "import zipfile\n",
        "from librosa import display as libdisplay\n",
        "from tqdm.notebook import tqdm\n",
        "import warnings\n",
        "warnings.simplefilter('ignore')\n",
        "import IPython.display as ipd\n",
        "from matplotlib import pyplot as plt\n",
        "from sklearn.model_selection import train_test_split, StratifiedKFold\n",
        "from sklearn.metrics import log_loss\n",
        "import torch\n",
        "import torch.nn as nn\n",
        "import torch.nn.functional as F\n",
        "from torchvision import models\n",
        "from keras.utils import to_categorical\n",
        "from PIL import Image\n",
        "from sklearn.model_selection import train_test_split\n",
        "from torchvision import datasets, transforms, models\n",
        "from torch.utils.data import DataLoader, Dataset\n",
        "import torch.nn as nn\n",
        "from torchvision import transforms\n",
        "import torch\n",
        "import torchvision\n",
        "import torchvision.models as models\n",
        "from efficientnet_pytorch import EfficientNet\n",
        "from torch.optim.lr_scheduler import MultiStepLR\n",
        "from torch.optim.lr_scheduler import OneCycleLR\n",
        "import pandas as pd \n",
        "import numpy as np\n",
        "import sklearn\n",
        "from sklearn.model_selection import StratifiedKFold\n",
        "from sklearn.metrics import accuracy_score, roc_auc_score\n",
        "from tqdm import tqdm_notebook as tqdm \n",
        "from sklearn.model_selection import train_test_split\n",
        "import albumentations\n",
        "from albumentations import torch as AT\n",
        "import cv2"
      ],
      "execution_count": null,
      "outputs": []
    },
    {
      "cell_type": "markdown",
      "metadata": {
        "id": "X7jcq0Ot-LbF"
      },
      "source": [
        "# **ENV**"
      ]
    },
    {
      "cell_type": "code",
      "metadata": {
        "id": "fzl6wnmU-Fdd"
      },
      "source": [
        "path = ''"
      ],
      "execution_count": null,
      "outputs": []
    },
    {
      "cell_type": "code",
      "metadata": {
        "id": "epSJc3bG-NpG"
      },
      "source": [
        "SEED_VAL  = 1\n",
        "# Set the seed value all over the place to make this reproducible.\n",
        "def seed_all(SEED):\n",
        "  random.seed(SEED_VAL)\n",
        "  np.random.seed(SEED_VAL)\n",
        "  torch.manual_seed(SEED_VAL)\n",
        "  torch.cuda.manual_seed_all(SEED_VAL)\n",
        "  os.environ['PYTHONHASHSEED'] = str(SEED_VAL)\n",
        "  torch.backends.cudnn.deterministic = True\n",
        "  torch.backends.cudnn.benchmark = False"
      ],
      "execution_count": null,
      "outputs": []
    },
    {
      "cell_type": "code",
      "metadata": {
        "id": "By6Eqx5k_Fwf"
      },
      "source": [
        "#will store our models here\n",
        "os.makedirs('MODELS/', exist_ok=True)"
      ],
      "execution_count": null,
      "outputs": []
    },
    {
      "cell_type": "code",
      "metadata": {
        "id": "r2ronOtg_JsV"
      },
      "source": [
        "#Placeholder for the training and test spectogram's images\n",
        "#It is going to store the spec, we will shortly generate.\n",
        "os.makedirs('Imgs/Train/', exist_ok=True)\n",
        "os.makedirs('Imgs/Test/', exist_ok=True)"
      ],
      "execution_count": null,
      "outputs": []
    },
    {
      "cell_type": "markdown",
      "metadata": {
        "id": "YloSNB5BvkA_"
      },
      "source": [
        "# **Utilities**"
      ]
    },
    {
      "cell_type": "code",
      "metadata": {
        "id": "6YeVnW1KvZ5K"
      },
      "source": [
        "def show_audio(ad):\n",
        "    sig,sr = ad\n",
        "    ipd.display(ipd.Audio(data=sig, rate=sr))"
      ],
      "execution_count": null,
      "outputs": []
    },
    {
      "cell_type": "code",
      "metadata": {
        "id": "m2wehAHN6xwT"
      },
      "source": [
        "class conf:\n",
        "    sampling_rate = 44100\n",
        "    duration = 3 # sec\n",
        "    hop_length = 347*duration # to make time steps 128\n",
        "    fmin = 20\n",
        "    fmax = sampling_rate // 2\n",
        "    n_mels = 128\n",
        "    n_fft = n_mels * 20\n",
        "    padmode = 'constant'\n",
        "    samples = sampling_rate * duration\n",
        "def get_default_conf():\n",
        "    return conf\n",
        "\n",
        "conf = get_default_conf()"
      ],
      "execution_count": null,
      "outputs": []
    },
    {
      "cell_type": "code",
      "metadata": {
        "id": "Ixhk4ORmvml5"
      },
      "source": [
        "def melspectogram_dB(file_path, cst=5, top_db=80.):\n",
        "  row_sound, sr = librosa.load(file_path,sr=conf.sampling_rate)\n",
        "  sound = np.zeros((cst*sr,))\n",
        "\n",
        "  if row_sound.shape[0] < cst*sr:\n",
        "    sound[:row_sound.shape[0]] = row_sound[:]\n",
        "  else:\n",
        "    sound[:] = row_sound[:cst*sr]\n",
        "\n",
        "  spec = librosa.feature.melspectrogram(sound, \n",
        "                                    sr=conf.sampling_rate,\n",
        "                                    n_mels=conf.n_mels,\n",
        "                                    hop_length=conf.hop_length,\n",
        "                                    n_fft=conf.n_fft,\n",
        "                                    fmin=conf.fmin,\n",
        "                                    fmax=conf.fmax)\n",
        "  spec_db = librosa.power_to_db(spec)\n",
        "  spec_db = spec_db.astype(np.float32)\n",
        "\n",
        "  return spec_db\n",
        "\n",
        "def spec_to_image(spec, eps=1e-6):\n",
        "  mean = spec.mean()\n",
        "  std = spec.std()\n",
        "  spec_norm = (spec - mean) / (std + eps)\n",
        "  spec_min, spec_max = spec_norm.min(), spec_norm.max()\n",
        "  spec_img = 255 * (spec_norm - spec_min) / (spec_max - spec_min)\n",
        "  \n",
        "  return spec_img.astype(np.uint8)\n",
        "\n",
        "def save_spec_image(spec_img, fname):\n",
        "  cv2.imwrite(fname, spec_img)"
      ],
      "execution_count": null,
      "outputs": []
    },
    {
      "cell_type": "code",
      "metadata": {
        "id": "_acZrdh7vmn_"
      },
      "source": [
        "class AudioDataset(torch.utils.data.Dataset):\n",
        "  def __init__(self, df, task='train', size=(300, 230), **kwargs):\n",
        "    super(AudioDataset, self).__init__()\n",
        "    self.df = df\n",
        "    self.task = task\n",
        "    self.size = size\n",
        "    self.c = len(calls)\n",
        "    self.classes = calls\n",
        "\n",
        "  def __len__(self):\n",
        "    return len(self.df)\n",
        "\n",
        "  def __getitem__(self, idx):\n",
        "    fn = self.df.loc[idx, 'spec_name']\n",
        "\n",
        "    spec = cv2.imread(fn, cv2.IMREAD_GRAYSCALE)\n",
        "    spec = cv2.resize(spec, self.size)\n",
        "\n",
        "    output = {\n",
        "        'spec': torch.tensor(spec, dtype=torch.float).unsqueeze(0),\n",
        "    }\n",
        "\n",
        "    if self.task=='train':\n",
        "      output.update({'label': torch.tensor(np.argmax(self.df.iloc[idx,4:].values)) })\n",
        "\n",
        "    return output"
      ],
      "execution_count": null,
      "outputs": []
    },
    {
      "cell_type": "code",
      "metadata": {
        "id": "AqbqIWdLvmqz"
      },
      "source": [
        "class AudioModel(torch.nn.Module):\n",
        "  def __init__(self, arch_name='resnet34',Family=\"resnet\", pretrained=True, fc_size=512, out_size=193, **kwargs):\n",
        "        super(AudioModel, self).__init__()\n",
        "\n",
        "        self.arch = getattr(models, arch_name)(pretrained)\n",
        "\n",
        "        if Family =='Densenet' :\n",
        "            head = torch.nn.Conv2d(1, 64, kernel_size=(3, 3), stride=(1, 1), padding=(1, 1))\n",
        "            head.weight = torch.nn.Parameter(self.arch.features.conv0.weight.sum(dim=1, keepdim=True))\n",
        "\n",
        "            self.arch.features.conv0 = head\n",
        "            fc_size = self.arch.classifier.in_features\n",
        "            self.arch.classifier = nn.Sequential(nn.Linear(fc_size, 193))\n",
        "\n",
        "        elif Family =='resnet' :\n",
        "          head = torch.nn.Conv2d(1, 64, kernel_size=(7,7), stride=(2,2), padding=(3,3))\n",
        "          head.weight = torch.nn.Parameter(self.arch.conv1.weight.sum(dim=1, keepdim=True))\n",
        "\n",
        "          self.arch.conv1 = head\n",
        "          fc_size = self.arch.fc.in_features\n",
        "          self.arch.fc = nn.Sequential(nn.Linear(fc_size, 193))\n",
        "\n",
        "  def forward(self, x):\n",
        "    x = self.arch(x)\n",
        "    return x"
      ],
      "execution_count": null,
      "outputs": []
    },
    {
      "cell_type": "code",
      "metadata": {
        "id": "3qUHb1ZiEKUV"
      },
      "source": [
        "class AverageMeter():\n",
        "    \"\"\"Computes and stores the average and current value\"\"\"\n",
        "    def __init__(self):\n",
        "        self.reset()\n",
        "\n",
        "    def reset(self):\n",
        "        self.val = 0\n",
        "        self.avg = 0\n",
        "        self.sum = 0\n",
        "        self.count = 0\n",
        "\n",
        "    def update(self, val, n=1):\n",
        "        self.val = val\n",
        "        self.sum += val * n\n",
        "        self.count += n\n",
        "        self.avg = self.sum / self.count"
      ],
      "execution_count": null,
      "outputs": []
    },
    {
      "cell_type": "code",
      "metadata": {
        "id": "pcdnnpzMEKqE",
        "colab": {
          "base_uri": "https://localhost:8080/"
        },
        "outputId": "3d7df15a-658e-4c24-d814-f1358e5d5295"
      },
      "source": [
        "device = torch.device(\"cuda\" if torch.cuda.is_available() else \"cpu\")\n",
        "device"
      ],
      "execution_count": null,
      "outputs": [
        {
          "output_type": "execute_result",
          "data": {
            "text/plain": [
              "device(type='cuda')"
            ]
          },
          "metadata": {
            "tags": []
          },
          "execution_count": 15
        }
      ]
    },
    {
      "cell_type": "code",
      "metadata": {
        "id": "d-u7UlK9ENIE"
      },
      "source": [
        "def loss_ce(outputs,targets):\n",
        "  criterion = nn.CrossEntropyLoss()\n",
        "  loss = criterion(outputs,targets)\n",
        "  return loss"
      ],
      "execution_count": null,
      "outputs": []
    },
    {
      "cell_type": "code",
      "metadata": {
        "id": "7nZPlYsmvmtK"
      },
      "source": [
        "def train_fn(train_data_loader,model,optimizer,device,scheduler = None):\n",
        "  model.train()\n",
        "  losses = AverageMeter()\n",
        "  tk0 = tqdm(train_data_loader, total=len(train_data_loader))\n",
        "  tot_loss = 0\n",
        "  for bi,d in enumerate(tk0):\n",
        "    images = d['spec']\n",
        "    labels = d['label']\n",
        "\n",
        "    #send them to device \n",
        "    images = images.to(device,dtype=torch.float)\n",
        "    labels = labels.to(device,dtype=torch.long)\n",
        "    optimizer.zero_grad()\n",
        "\n",
        "    outputs  = model(images)\n",
        "    \n",
        "\n",
        "    if LOSS == 'CE':\n",
        "      loss = loss_ce(outputs,labels)\n",
        "      loss.backward()\n",
        "      optimizer.step()\n",
        "      tot_loss = tot_loss + loss.item()\n",
        "      losses.update(loss.item(), labels.size(0))\n",
        "      tk0.set_postfix(loss_ce=losses.avg)\n",
        "\n",
        "    if scheduler is not None:\n",
        "      scheduler.step()\n",
        "  return losses.avg"
      ],
      "execution_count": null,
      "outputs": []
    },
    {
      "cell_type": "code",
      "metadata": {
        "id": "cbicmkP6wZ8p"
      },
      "source": [
        "def eval_fn(valid_data_loader,model,device):\n",
        "  model.eval()\n",
        "  tot_loss = 0\n",
        "  log_loss_score = 0\n",
        "  final_outputs = []\n",
        "  final_targets = []\n",
        "  with torch.no_grad():\n",
        "    for bi,d in enumerate(valid_data_loader):\n",
        "\n",
        "      images = d['spec']\n",
        "      labels = d['label']\n",
        "\n",
        "      #send them to device \n",
        "      images = images.to(device,dtype=torch.float)\n",
        "      labels = labels.to(device,dtype=torch.long)\n",
        "      outputs  = model(images)\n",
        "\n",
        "      if LOSS == 'CE':\n",
        "        loss = loss_ce(outputs,labels)\n",
        "        tot_loss = tot_loss + loss.item()\n",
        "        \n",
        "      final_outputs.extend(torch.nn.functional.softmax(outputs).cpu().detach().numpy())\n",
        "      final_targets.extend(labels.cpu().numpy())\n",
        "    \n",
        "\n",
        "\n",
        "    final_outputs = np.argmax(final_outputs,axis=1) \n",
        "    mean_loss_val  = tot_loss/len(valid_data_loader)\n",
        "    acc_score = sklearn.metrics.accuracy_score(final_targets,final_outputs)\n",
        "    print(f\"Validation loss {LOSS} for this epoch: \",mean_loss_val)\n",
        "    print('Validation accuracy for this epoch',acc_score)\n",
        "  return mean_loss_val"
      ],
      "execution_count": null,
      "outputs": []
    },
    {
      "cell_type": "code",
      "metadata": {
        "id": "zS6mqNACwZ_O"
      },
      "source": [
        "def predict(df, size, bs=2):\n",
        "  test_ds = AudioDataset(df, task='test', size=size)\n",
        "  testloader = torch.utils.data.DataLoader(test_ds, bs, shuffle=False)\n",
        "\n",
        "  predictions_labels = []\n",
        "  predictions_proba = []\n",
        "\n",
        "  out = None\n",
        "\n",
        "  for data in tqdm(testloader):\n",
        "    x = data['spec'].to(device)\n",
        "\n",
        "    for i in range(n_folds):\n",
        "      if i == 0: out = MODELS[i](x)\n",
        "      else: out += MODELS[i](x)\n",
        "\n",
        "    out /= n_folds\n",
        "    \n",
        "    out_labels = out.argmax(1).cpu().detach().numpy()\n",
        "    out = F.softmax(out)\n",
        "    out_probas = out.cpu().detach().numpy()\n",
        "\n",
        "    predictions_labels += out_labels.tolist()\n",
        "    predictions_proba += out_probas.tolist()\n",
        "\n",
        "  return predictions_labels ,predictions_proba"
      ],
      "execution_count": null,
      "outputs": []
    },
    {
      "cell_type": "code",
      "metadata": {
        "id": "wzb1tAeXy2SK"
      },
      "source": [
        "def predict_normal_gmean(df, size, bs=2):\n",
        "  p=[]\n",
        "  subs=[]\n",
        "  test_ds = AudioDataset(df, task='test', size=size)\n",
        "  testloader = torch.utils.data.DataLoader(test_ds, bs, shuffle=False)\n",
        "\n",
        "  predictions_labels = []\n",
        "  predictions_proba = []\n",
        "\n",
        "  out = None\n",
        "\n",
        "  for data in tqdm(testloader):\n",
        "    x = data['spec'].to(device)\n",
        "\n",
        "    for i in range(n_folds):\n",
        "      if i == 0: \n",
        "        out = MODELS[i](x)\n",
        "        subs.append(F.softmax(out/n_folds))\n",
        "      else: \n",
        "        out += MODELS[i](x)\n",
        "        subs.append(F.softmax(out/n_folds))\n",
        "\n",
        "    out /= n_folds\n",
        "    out_labels = out.argmax(1).cpu().detach().numpy()\n",
        "    out = F.softmax(out)\n",
        "    out_probas = out.cpu().detach().numpy()\n",
        "\n",
        "    l=len(subs)\n",
        "    predictions=[np.array(subs[i].tolist()) for i in range(l)]\n",
        "    predictions_gmean=gmean(predictions)\n",
        "\n",
        "    predictions_labels += out_labels.tolist()\n",
        "    predictions_proba += out_probas.tolist()\n",
        "\n",
        "  return predictions_gmean ,predictions_proba"
      ],
      "execution_count": null,
      "outputs": []
    },
    {
      "cell_type": "code",
      "metadata": {
        "id": "AHdWhjG4waBY"
      },
      "source": [
        "def run_fold(fold, bs=16, eval_bs=16, lr=1e-4, size=(500, 230), name='resnet34',  path='MODELS/'):\n",
        "  best_logloss = np.inf\n",
        "\n",
        "  fold_train = train[train.fold != fold].reset_index(drop=True)\n",
        "  fold_val = train[train.fold == fold].reset_index(drop=True)\n",
        "\n",
        "  train_ds = AudioDataset(fold_train, size=size)\n",
        "  val_ds = AudioDataset(fold_val, size=size)\n",
        "\n",
        "  trainloader = torch.utils.data.DataLoader(train_ds, batch_size=bs, shuffle=True)\n",
        "  validloader = torch.utils.data.DataLoader(val_ds, batch_size=eval_bs, shuffle=False)\n",
        "\n",
        "  model = AudioModel(name)\n",
        "  criterion = torch.nn.CrossEntropyLoss()\n",
        "  optimizer = torch.optim.AdamW(model.parameters(), lr=lr)\n",
        "  \n",
        "  model.to(device)\n",
        "\n",
        "  loader = tqdm(range(epochs), desc='Training')\n",
        "\n",
        "  for epoch in loader:\n",
        "    print(\"----------------EPOCH \"+str(epoch+1)+\"---------------------\")\n",
        "    logLoss_train = train_fn(trainloader, model, optimizer, device,scheduler=None)\n",
        "    logLoss_val = eval_fn(validloader ,model, device)\n",
        "\n",
        "    if logLoss_val < best_logloss:\n",
        "      best_logloss = logLoss_val\n",
        "      torch.save(model.state_dict(), f'{path}model_state_dict_{fold}.bin')\n",
        "  print(f'best logLoss_val for fold {fold+1}: ',best_logloss)\n",
        "  return best_logloss"
      ],
      "execution_count": null,
      "outputs": []
    },
    {
      "cell_type": "code",
      "metadata": {
        "id": "S_m3AEBqB2pK"
      },
      "source": [
        "def RUNNN() :\n",
        "  seed_all(SEED_VAL)\n",
        "  avg_logloss = 0\n",
        "  best_fold = 0\n",
        "  fold_logloss = np.inf\n",
        "\n",
        "  for fold in range(3,5):\n",
        "    free_memory(sleep_time=0.1)\n",
        "    print(35* '#_#')\n",
        "    print(f'FOLD :: {fold} // {n_folds} ')\n",
        "    _fold_logloss = run_fold(fold, size=size, name=NAME,  lr=lr, bs=bs)\n",
        "    avg_logloss += _fold_logloss\n",
        "\n",
        "    if fold_logloss > _fold_logloss : best_fold = fold\n",
        "\n",
        "  print()\n",
        "  print(\"Avg LogLoss: \", avg_logloss/2)"
      ],
      "execution_count": null,
      "outputs": []
    },
    {
      "cell_type": "code",
      "metadata": {
        "id": "SBhsOOdtlNnx"
      },
      "source": [
        "def holdout(fold = 0) :\n",
        "  seed_all(SEED_VAL)\n",
        "  free_memory(sleep_time=0.1)\n",
        "  avg_logloss = 0\n",
        "  best_fold = 0\n",
        "  fold_logloss = np.inf\n",
        "  \n",
        "\n",
        "  print(35* '#_#')\n",
        "  print(f'FOLD :: {fold} // {n_folds} ')\n",
        "  _fold_logloss = run_fold(fold, size=size, name=NAME,  lr=lr, bs=bs)\n",
        "  print()\n",
        "  print(\"LogLoss: \", _fold_logloss)"
      ],
      "execution_count": null,
      "outputs": []
    },
    {
      "cell_type": "markdown",
      "metadata": {
        "id": "Q46cS7UU9KOj"
      },
      "source": [
        "# **Data-Preparation**"
      ]
    },
    {
      "cell_type": "code",
      "metadata": {
        "id": "BPf_Nl_z8HZ7"
      },
      "source": [
        "train = pd.read_csv(\"/content/Train.csv\")\n",
        "test = pd.read_csv(\"/content/SampleSubmission.csv\")\n",
        "submission = pd.read_csv(\"/content/SampleSubmission.csv\")"
      ],
      "execution_count": null,
      "outputs": []
    },
    {
      "cell_type": "code",
      "metadata": {
        "id": "O68pCuxz89ar",
        "colab": {
          "base_uri": "https://localhost:8080/",
          "height": 111
        },
        "outputId": "61dfedff-919f-4b59-d066-d52866c09d94"
      },
      "source": [
        "train.head(2)"
      ],
      "execution_count": null,
      "outputs": [
        {
          "output_type": "execute_result",
          "data": {
            "text/html": [
              "<div>\n",
              "<style scoped>\n",
              "    .dataframe tbody tr th:only-of-type {\n",
              "        vertical-align: middle;\n",
              "    }\n",
              "\n",
              "    .dataframe tbody tr th {\n",
              "        vertical-align: top;\n",
              "    }\n",
              "\n",
              "    .dataframe thead th {\n",
              "        text-align: right;\n",
              "    }\n",
              "</style>\n",
              "<table border=\"1\" class=\"dataframe\">\n",
              "  <thead>\n",
              "    <tr style=\"text-align: right;\">\n",
              "      <th></th>\n",
              "      <th>fn</th>\n",
              "      <th>label</th>\n",
              "    </tr>\n",
              "  </thead>\n",
              "  <tbody>\n",
              "    <tr>\n",
              "      <th>0</th>\n",
              "      <td>audio_files/IV38R7F.wav</td>\n",
              "      <td>akawuka</td>\n",
              "    </tr>\n",
              "    <tr>\n",
              "      <th>1</th>\n",
              "      <td>audio_files/KM4SKWT.wav</td>\n",
              "      <td>banana</td>\n",
              "    </tr>\n",
              "  </tbody>\n",
              "</table>\n",
              "</div>"
            ],
            "text/plain": [
              "                        fn    label\n",
              "0  audio_files/IV38R7F.wav  akawuka\n",
              "1  audio_files/KM4SKWT.wav   banana"
            ]
          },
          "metadata": {
            "tags": []
          },
          "execution_count": 26
        }
      ]
    },
    {
      "cell_type": "markdown",
      "metadata": {
        "id": "CooUdeJ7At5U"
      },
      "source": [
        "> **additional data** : i've uploaded the **latest_keywords** & **nlp_keywords_29** folder in my drive repository\n",
        "\n"
      ]
    },
    {
      "cell_type": "code",
      "metadata": {
        "id": "7-v1UsUfKnRe"
      },
      "source": [
        "# Add Additional Data\n",
        "path_additional1= '/content/drive/My Drive/Giz_NLP_AUDIO/latest_keywords'\n",
        "Additional_Labels1 = os.listdir(path_additional1)\n",
        "\n",
        "# Add Additional Data 29 octobre\n",
        "path_additional2= '/content/drive/My Drive/Giz_NLP_AUDIO/nlp_keywords_29'\n",
        "Additional_Labels2 = os.listdir(path_additional2)"
      ],
      "execution_count": null,
      "outputs": []
    },
    {
      "cell_type": "code",
      "metadata": {
        "id": "KaZasGsLKimN"
      },
      "source": [
        "def add_data(df,Label,path_additional,n=1) :\n",
        "  additional = pd.DataFrame()\n",
        "  if n==2 :\n",
        "    additional['fn'] =  os.listdir(path_additional + '/' + Label)[1:]\n",
        "    additional['fn'] =  str(path_additional[9:]) + '/' + Label +'/' + additional['fn']\n",
        "    additional['label'] = Label\n",
        "    return pd.concat([df,additional]).reset_index(drop=True)\n",
        "  else :\n",
        "    additional['fn'] =  os.listdir(path_additional + '/' + Label)\n",
        "    additional['fn'] =  str(path_additional[9:]) + '/' + Label +'/' + additional['fn']\n",
        "    additional['label'] = Label\n",
        "    return pd.concat([df,additional]).reset_index(drop=True)"
      ],
      "execution_count": null,
      "outputs": []
    },
    {
      "cell_type": "code",
      "metadata": {
        "id": "Pv2VS4g7KioR"
      },
      "source": [
        "def create_Full_Train(Additional_Labels,path_additional,train=train,n=1) :\n",
        "  for idx_Label in  tqdm(range(len(Additional_Labels))) :\n",
        "    Label  = Additional_Labels[idx_Label]\n",
        "    train = add_data(train,Label,path_additional,n=n)\n",
        "  print('Full_Train_Shape ::' ,train.shape[0])\n",
        "  return train"
      ],
      "execution_count": null,
      "outputs": []
    },
    {
      "cell_type": "code",
      "metadata": {
        "id": "gk81f9YZKirN",
        "colab": {
          "base_uri": "https://localhost:8080/",
          "height": 149,
          "referenced_widgets": [
            "0401d383ed7d4cad9f5a6711818cec2f",
            "f7bcacd2e35c4eacbe538ed765a5dee9",
            "82f74f9edd464756914d1a5ecaf36fa4",
            "78b25c375d254dbba111468cee16476b",
            "6fe116757ae44b5e87ce7e48ceec3dd4",
            "c39b9f16418e4aa29afacc288d9c3662",
            "c8e563791744465ba148c8172ddbc39b",
            "9f4356ac2e2b4991b35d2ba5c34e199e",
            "6429b625bff44005b4c4447d1bdf01cd",
            "eb20b97e24a34958b357873f125df387",
            "f6bc508930e34be19d638c402f063c24",
            "fc710eea8a39406f902e4247e524bf39",
            "b338132f6b2c4ced811fa972b9dae277",
            "86edf40d540b4db3a1b58debe7612f3f",
            "c35ffee30a884720a45c86eaded88071",
            "83015ae396ec43f3b6d9199f8af76e0d"
          ]
        },
        "outputId": "eb1d7a1a-77f6-4fff-f92c-969008f37adf"
      },
      "source": [
        "train = create_Full_Train(Additional_Labels1,path_additional1,train=train,n=1) \n",
        "train = create_Full_Train(Additional_Labels2,path_additional2,train=train,n=2) "
      ],
      "execution_count": null,
      "outputs": [
        {
          "output_type": "display_data",
          "data": {
            "application/vnd.jupyter.widget-view+json": {
              "model_id": "0401d383ed7d4cad9f5a6711818cec2f",
              "version_minor": 0,
              "version_major": 2
            },
            "text/plain": [
              "HBox(children=(FloatProgress(value=0.0, max=129.0), HTML(value='')))"
            ]
          },
          "metadata": {
            "tags": []
          }
        },
        {
          "output_type": "stream",
          "text": [
            "\n",
            "Full_Train_Shape :: 2849\n"
          ],
          "name": "stdout"
        },
        {
          "output_type": "display_data",
          "data": {
            "application/vnd.jupyter.widget-view+json": {
              "model_id": "6429b625bff44005b4c4447d1bdf01cd",
              "version_minor": 0,
              "version_major": 2
            },
            "text/plain": [
              "HBox(children=(FloatProgress(value=0.0, max=122.0), HTML(value='')))"
            ]
          },
          "metadata": {
            "tags": []
          }
        },
        {
          "output_type": "stream",
          "text": [
            "\n",
            "Full_Train_Shape :: 4587\n"
          ],
          "name": "stdout"
        }
      ]
    },
    {
      "cell_type": "code",
      "metadata": {
        "id": "yW5SXySW850_"
      },
      "source": [
        "calls = submission.columns[1:]"
      ],
      "execution_count": null,
      "outputs": []
    },
    {
      "cell_type": "code",
      "metadata": {
        "id": "3CMqijMH_CxN"
      },
      "source": [
        "label = np.linspace(0, len(calls)-1, len(calls), dtype=np.int16)\n",
        "mapper = dict(zip(calls, label))"
      ],
      "execution_count": null,
      "outputs": []
    },
    {
      "cell_type": "code",
      "metadata": {
        "id": "lqPIP0uUxNYN"
      },
      "source": [
        "train['label'] = train['label'].map(mapper).astype(int)"
      ],
      "execution_count": null,
      "outputs": []
    },
    {
      "cell_type": "code",
      "metadata": {
        "id": "1HD1K4HtxmQj"
      },
      "source": [
        "# Add file names\n",
        "def add_file_name(train=train,submission=submission) : \n",
        "  for idx in tqdm(range(1109)) :\n",
        "      train.loc[idx,'spec_name'] = 'Imgs/Train/'+train.loc[idx,'fn'][12:-4]+'.png'\n",
        "  for idx in tqdm(range(1109,len(train))) :\n",
        "      train.loc[idx,'spec_name'] = 'Imgs/Train/'+train.loc[idx,'fn'].split('/')[5][:-4]+'.png'\n",
        "  \n",
        "\n",
        "  submission['spec_name'] = 'Imgs/Test/'+submission['fn'].apply(lambda x : x[12:-4])+'.png'\n",
        "  return train , submission"
      ],
      "execution_count": null,
      "outputs": []
    },
    {
      "cell_type": "code",
      "metadata": {
        "id": "CrRb7dpJQGNv",
        "colab": {
          "base_uri": "https://localhost:8080/",
          "height": 115,
          "referenced_widgets": [
            "a5175637467045858fbd2b128e4fab4d",
            "f22b52a968e24ef8bf2f41904de4ef12",
            "8a67c5c8a27848bcaabbfad81edb4dbd",
            "0ec2819ca3cc4286989068dac08d07c5",
            "645dcab013184b6c823f50477f9a7827",
            "8241ee2411d9450c97848d70dee1dfab",
            "56546ce037284e5fa2984df130171c22",
            "64809bd6ce3e4ec08c0d32afe70260f1",
            "69b7faf84c3241faa9a118486bb9a44b",
            "6b0d705998de41b1807a8c51b962bbcb",
            "a36709094d07403088c3bb22e6777e36",
            "789452dab5b4494281286a68425fc4ed",
            "7947705137404765838414120f9311b2",
            "09cd22a24f994cefacc0c2be3887e283",
            "2dedf25f0b0b4f8198f1c423f43379fb",
            "278222b7a5294c209ae6026c99f0c090"
          ]
        },
        "outputId": "fb6c92e9-b24b-417d-8ca6-0746b5413f3f"
      },
      "source": [
        "train , submission = add_file_name(train=train,submission=submission)"
      ],
      "execution_count": null,
      "outputs": [
        {
          "output_type": "display_data",
          "data": {
            "application/vnd.jupyter.widget-view+json": {
              "model_id": "a5175637467045858fbd2b128e4fab4d",
              "version_minor": 0,
              "version_major": 2
            },
            "text/plain": [
              "HBox(children=(FloatProgress(value=0.0, max=1109.0), HTML(value='')))"
            ]
          },
          "metadata": {
            "tags": []
          }
        },
        {
          "output_type": "stream",
          "text": [
            "\n"
          ],
          "name": "stdout"
        },
        {
          "output_type": "display_data",
          "data": {
            "application/vnd.jupyter.widget-view+json": {
              "model_id": "69b7faf84c3241faa9a118486bb9a44b",
              "version_minor": 0,
              "version_major": 2
            },
            "text/plain": [
              "HBox(children=(FloatProgress(value=0.0, max=3478.0), HTML(value='')))"
            ]
          },
          "metadata": {
            "tags": []
          }
        },
        {
          "output_type": "stream",
          "text": [
            "\n"
          ],
          "name": "stdout"
        }
      ]
    },
    {
      "cell_type": "markdown",
      "metadata": {
        "id": "LEfNT1QBdCuU"
      },
      "source": [
        "## **Generate Sectograms**"
      ]
    },
    {
      "cell_type": "code",
      "metadata": {
        "id": "MzMpBBVlxSUI",
        "colab": {
          "base_uri": "https://localhost:8080/",
          "height": 66,
          "referenced_widgets": [
            "c90d677546e74f3eacfdc6bfcdfcd2f0",
            "27a4e5266ef741c09c75b34be68e6827",
            "cd4f6cd9f22e4afdb06a7a7ffec640de",
            "4f3c1c53efd1438a92f09bd848e8fc9f",
            "79dd6f13eb9446a08062a4740bf1a000",
            "ef5f8f27143b4fefa2db9dc3a8874f55",
            "4b47fcdff9e64b60b1ede1b842061520",
            "20b64e1c8f344976af798c7ca2ca0124"
          ]
        },
        "outputId": "bd8bf5a9-5117-4a70-e451-aa7fb49ec80a"
      },
      "source": [
        "#Training specs\n",
        "for row in tqdm(train.values):\n",
        "  sound_path = row[0] #this corresponds to 'file_name'\n",
        "  spec_name = row[2] #this corresponds to  'spec_name'\n",
        "\n",
        "  spec = melspectogram_dB(sound_path, 3)\n",
        "  spec = spec_to_image(spec)\n",
        "  save_spec_image(spec, spec_name)"
      ],
      "execution_count": null,
      "outputs": [
        {
          "output_type": "display_data",
          "data": {
            "application/vnd.jupyter.widget-view+json": {
              "model_id": "c90d677546e74f3eacfdc6bfcdfcd2f0",
              "version_minor": 0,
              "version_major": 2
            },
            "text/plain": [
              "HBox(children=(FloatProgress(value=0.0, max=4587.0), HTML(value='')))"
            ]
          },
          "metadata": {
            "tags": []
          }
        },
        {
          "output_type": "stream",
          "text": [
            "\n"
          ],
          "name": "stdout"
        }
      ]
    },
    {
      "cell_type": "code",
      "metadata": {
        "id": "79uzQtU4yWks",
        "colab": {
          "base_uri": "https://localhost:8080/",
          "height": 416
        },
        "outputId": "dd245b0d-a60a-482f-9f0c-a74743568f02"
      },
      "source": [
        "plt.figure(figsize=(6,10))\n",
        "plt.title('Visualization of audio file', weight='bold')\n",
        "plt.imshow(spec)"
      ],
      "execution_count": null,
      "outputs": [
        {
          "output_type": "execute_result",
          "data": {
            "text/plain": [
              "<matplotlib.image.AxesImage at 0x7f8e814c6128>"
            ]
          },
          "metadata": {
            "tags": []
          },
          "execution_count": 43
        },
        {
          "output_type": "display_data",
          "data": {
            "image/png": "[encoded data removed]",
            "text/plain": [
              "<Figure size 432x720 with 1 Axes>"
            ]
          },
          "metadata": {
            "tags": [],
            "needs_background": "light"
          }
        }
      ]
    },
    {
      "cell_type": "code",
      "metadata": {
        "id": "uuOhnan8yt8y",
        "colab": {
          "base_uri": "https://localhost:8080/",
          "height": 194
        },
        "outputId": "5146e80b-f2b6-4dd6-864a-b96983f3449e"
      },
      "source": [
        "submission.head(2)"
      ],
      "execution_count": null,
      "outputs": [
        {
          "output_type": "execute_result",
          "data": {
            "text/html": [
              "<div>\n",
              "<style scoped>\n",
              "    .dataframe tbody tr th:only-of-type {\n",
              "        vertical-align: middle;\n",
              "    }\n",
              "\n",
              "    .dataframe tbody tr th {\n",
              "        vertical-align: top;\n",
              "    }\n",
              "\n",
              "    .dataframe thead th {\n",
              "        text-align: right;\n",
              "    }\n",
              "</style>\n",
              "<table border=\"1\" class=\"dataframe\">\n",
              "  <thead>\n",
              "    <tr style=\"text-align: right;\">\n",
              "      <th></th>\n",
              "      <th>fn</th>\n",
              "      <th>maize streak virus</th>\n",
              "      <th>disease</th>\n",
              "      <th>okukkoola</th>\n",
              "      <th>muwogo</th>\n",
              "      <th>mpeke</th>\n",
              "      <th>mucungwa</th>\n",
              "      <th>greens</th>\n",
              "      <th>garden</th>\n",
              "      <th>mango</th>\n",
              "      <th>bulimi</th>\n",
              "      <th>obuwuka</th>\n",
              "      <th>ebikoola</th>\n",
              "      <th>obulimi</th>\n",
              "      <th>ebisoolisooli</th>\n",
              "      <th>kaamulali</th>\n",
              "      <th>eddagala</th>\n",
              "      <th>beans</th>\n",
              "      <th>omuyembe</th>\n",
              "      <th>leaf</th>\n",
              "      <th>kisaanyi</th>\n",
              "      <th>leaves</th>\n",
              "      <th>butterfly</th>\n",
              "      <th>okuzifuuyira</th>\n",
              "      <th>micungwa</th>\n",
              "      <th>ppaapaali</th>\n",
              "      <th>emboga</th>\n",
              "      <th>kikolo</th>\n",
              "      <th>harvest</th>\n",
              "      <th>olusuku</th>\n",
              "      <th>coffee</th>\n",
              "      <th>super grow</th>\n",
              "      <th>rice</th>\n",
              "      <th>ensujju</th>\n",
              "      <th>okulima</th>\n",
              "      <th>worm</th>\n",
              "      <th>ebbugga</th>\n",
              "      <th>onion</th>\n",
              "      <th>ensigo</th>\n",
              "      <th>plantation</th>\n",
              "      <th>...</th>\n",
              "      <th>omulimi</th>\n",
              "      <th>okusimba</th>\n",
              "      <th>sweet potatoes</th>\n",
              "      <th>okufuuyira</th>\n",
              "      <th>farming instructor</th>\n",
              "      <th>nnasale beedi</th>\n",
              "      <th>passion fruit</th>\n",
              "      <th>ekitooke</th>\n",
              "      <th>ebisaanyi</th>\n",
              "      <th>ekyeya</th>\n",
              "      <th>enva endiirwa</th>\n",
              "      <th>emisiri</th>\n",
              "      <th>emiyembe</th>\n",
              "      <th>amatooke</th>\n",
              "      <th>ebiwuka</th>\n",
              "      <th>farm</th>\n",
              "      <th>ebinyebwa</th>\n",
              "      <th>amappapaali</th>\n",
              "      <th>ebimera</th>\n",
              "      <th>kassooli</th>\n",
              "      <th>harvesting</th>\n",
              "      <th>emmwanyi</th>\n",
              "      <th>akamonde</th>\n",
              "      <th>obumonde</th>\n",
              "      <th>cabbages</th>\n",
              "      <th>akasaanyi</th>\n",
              "      <th>spread</th>\n",
              "      <th>ebirime</th>\n",
              "      <th>drought</th>\n",
              "      <th>kasaanyi</th>\n",
              "      <th>suckers</th>\n",
              "      <th>insects</th>\n",
              "      <th>fertilizer</th>\n",
              "      <th>nakavundira</th>\n",
              "      <th>ekiwojjolo</th>\n",
              "      <th>akawuka</th>\n",
              "      <th>ddagala</th>\n",
              "      <th>ebiwojjolo</th>\n",
              "      <th>obutungulu</th>\n",
              "      <th>spec_name</th>\n",
              "    </tr>\n",
              "  </thead>\n",
              "  <tbody>\n",
              "    <tr>\n",
              "      <th>0</th>\n",
              "      <td>audio_files/00118N3.wav</td>\n",
              "      <td>0</td>\n",
              "      <td>0</td>\n",
              "      <td>0</td>\n",
              "      <td>0</td>\n",
              "      <td>0</td>\n",
              "      <td>0</td>\n",
              "      <td>0</td>\n",
              "      <td>0</td>\n",
              "      <td>0</td>\n",
              "      <td>0</td>\n",
              "      <td>0</td>\n",
              "      <td>0</td>\n",
              "      <td>0</td>\n",
              "      <td>0</td>\n",
              "      <td>0</td>\n",
              "      <td>0</td>\n",
              "      <td>0</td>\n",
              "      <td>0</td>\n",
              "      <td>0</td>\n",
              "      <td>0</td>\n",
              "      <td>0</td>\n",
              "      <td>0</td>\n",
              "      <td>0</td>\n",
              "      <td>0</td>\n",
              "      <td>0</td>\n",
              "      <td>0</td>\n",
              "      <td>0</td>\n",
              "      <td>0</td>\n",
              "      <td>0</td>\n",
              "      <td>0</td>\n",
              "      <td>0</td>\n",
              "      <td>0</td>\n",
              "      <td>0</td>\n",
              "      <td>0</td>\n",
              "      <td>0</td>\n",
              "      <td>0</td>\n",
              "      <td>0</td>\n",
              "      <td>0</td>\n",
              "      <td>0</td>\n",
              "      <td>...</td>\n",
              "      <td>0</td>\n",
              "      <td>0</td>\n",
              "      <td>0</td>\n",
              "      <td>0</td>\n",
              "      <td>0</td>\n",
              "      <td>0</td>\n",
              "      <td>0</td>\n",
              "      <td>0</td>\n",
              "      <td>0</td>\n",
              "      <td>0</td>\n",
              "      <td>0</td>\n",
              "      <td>0</td>\n",
              "      <td>0</td>\n",
              "      <td>0</td>\n",
              "      <td>0</td>\n",
              "      <td>0</td>\n",
              "      <td>0</td>\n",
              "      <td>0</td>\n",
              "      <td>0</td>\n",
              "      <td>0</td>\n",
              "      <td>0</td>\n",
              "      <td>0</td>\n",
              "      <td>0</td>\n",
              "      <td>0</td>\n",
              "      <td>0</td>\n",
              "      <td>0</td>\n",
              "      <td>0</td>\n",
              "      <td>0</td>\n",
              "      <td>0</td>\n",
              "      <td>0</td>\n",
              "      <td>0</td>\n",
              "      <td>0</td>\n",
              "      <td>0</td>\n",
              "      <td>0</td>\n",
              "      <td>0</td>\n",
              "      <td>0</td>\n",
              "      <td>0</td>\n",
              "      <td>0</td>\n",
              "      <td>0</td>\n",
              "      <td>Imgs/Test/00118N3.png</td>\n",
              "    </tr>\n",
              "    <tr>\n",
              "      <th>1</th>\n",
              "      <td>audio_files/00P0NMV.wav</td>\n",
              "      <td>0</td>\n",
              "      <td>0</td>\n",
              "      <td>0</td>\n",
              "      <td>0</td>\n",
              "      <td>0</td>\n",
              "      <td>0</td>\n",
              "      <td>0</td>\n",
              "      <td>0</td>\n",
              "      <td>0</td>\n",
              "      <td>0</td>\n",
              "      <td>0</td>\n",
              "      <td>0</td>\n",
              "      <td>0</td>\n",
              "      <td>0</td>\n",
              "      <td>0</td>\n",
              "      <td>0</td>\n",
              "      <td>0</td>\n",
              "      <td>0</td>\n",
              "      <td>0</td>\n",
              "      <td>0</td>\n",
              "      <td>0</td>\n",
              "      <td>0</td>\n",
              "      <td>0</td>\n",
              "      <td>0</td>\n",
              "      <td>0</td>\n",
              "      <td>0</td>\n",
              "      <td>0</td>\n",
              "      <td>0</td>\n",
              "      <td>0</td>\n",
              "      <td>0</td>\n",
              "      <td>0</td>\n",
              "      <td>0</td>\n",
              "      <td>0</td>\n",
              "      <td>0</td>\n",
              "      <td>0</td>\n",
              "      <td>0</td>\n",
              "      <td>0</td>\n",
              "      <td>0</td>\n",
              "      <td>0</td>\n",
              "      <td>...</td>\n",
              "      <td>0</td>\n",
              "      <td>0</td>\n",
              "      <td>0</td>\n",
              "      <td>0</td>\n",
              "      <td>0</td>\n",
              "      <td>0</td>\n",
              "      <td>0</td>\n",
              "      <td>0</td>\n",
              "      <td>0</td>\n",
              "      <td>0</td>\n",
              "      <td>0</td>\n",
              "      <td>0</td>\n",
              "      <td>0</td>\n",
              "      <td>0</td>\n",
              "      <td>0</td>\n",
              "      <td>0</td>\n",
              "      <td>0</td>\n",
              "      <td>0</td>\n",
              "      <td>0</td>\n",
              "      <td>0</td>\n",
              "      <td>0</td>\n",
              "      <td>0</td>\n",
              "      <td>0</td>\n",
              "      <td>0</td>\n",
              "      <td>0</td>\n",
              "      <td>0</td>\n",
              "      <td>0</td>\n",
              "      <td>0</td>\n",
              "      <td>0</td>\n",
              "      <td>0</td>\n",
              "      <td>0</td>\n",
              "      <td>0</td>\n",
              "      <td>0</td>\n",
              "      <td>0</td>\n",
              "      <td>0</td>\n",
              "      <td>0</td>\n",
              "      <td>0</td>\n",
              "      <td>0</td>\n",
              "      <td>0</td>\n",
              "      <td>Imgs/Test/00P0NMV.png</td>\n",
              "    </tr>\n",
              "  </tbody>\n",
              "</table>\n",
              "<p>2 rows × 195 columns</p>\n",
              "</div>"
            ],
            "text/plain": [
              "                        fn  ...              spec_name\n",
              "0  audio_files/00118N3.wav  ...  Imgs/Test/00118N3.png\n",
              "1  audio_files/00P0NMV.wav  ...  Imgs/Test/00P0NMV.png\n",
              "\n",
              "[2 rows x 195 columns]"
            ]
          },
          "metadata": {
            "tags": []
          },
          "execution_count": 44
        }
      ]
    },
    {
      "cell_type": "code",
      "metadata": {
        "id": "Urd-ICq_yquf",
        "colab": {
          "base_uri": "https://localhost:8080/",
          "height": 66,
          "referenced_widgets": [
            "78aeb9af71b84264ae601b48ba872f06",
            "10c7c7a818014583a611f4322f1aa75c",
            "7d0524a8faa145438b66e253d8d9a54b",
            "3de54fba8c874b16aca54bd2d22adb03",
            "66a65d4ce3e64bfc93a61b017af548af",
            "a9204db0788348abae4bc5c5b25fcd44",
            "280a9f8ed9954aef85266908c63afb41",
            "d04bc16f093442feb04fd6aa68230882"
          ]
        },
        "outputId": "704024aa-c1a4-4ddb-f5b6-9fc7b193c6ec"
      },
      "source": [
        "#Test specs\n",
        "for row in tqdm(submission.values):\n",
        "  sound_path = row[0] #this corresponds to 'file_name'\n",
        "  spec_name = row[-1] #this corresponds to 'spec_name'\n",
        "  \n",
        "  spec = melspectogram_dB(sound_path, 3)\n",
        "  spec = spec_to_image(spec)\n",
        "  save_spec_image(spec, spec_name)"
      ],
      "execution_count": null,
      "outputs": [
        {
          "output_type": "display_data",
          "data": {
            "application/vnd.jupyter.widget-view+json": {
              "model_id": "78aeb9af71b84264ae601b48ba872f06",
              "version_minor": 0,
              "version_major": 2
            },
            "text/plain": [
              "HBox(children=(FloatProgress(value=0.0, max=1017.0), HTML(value='')))"
            ]
          },
          "metadata": {
            "tags": []
          }
        },
        {
          "output_type": "stream",
          "text": [
            "\n"
          ],
          "name": "stdout"
        }
      ]
    },
    {
      "cell_type": "code",
      "metadata": {
        "id": "y5lyQ0q7aaug"
      },
      "source": [
        "#This code zips the generated spec images\n",
        "!zip -r Final_Full_GIZ_Spec_imgs.zip Imgs -q"
      ],
      "execution_count": null,
      "outputs": []
    },
    {
      "cell_type": "markdown",
      "metadata": {
        "id": "_5jrnmGJ3b3u"
      },
      "source": [
        " \n",
        "\n",
        "> **Create Paths : they will be used in other notebooks :)**\n",
        "\n"
      ]
    },
    {
      "cell_type": "code",
      "metadata": {
        "id": "zsbTZWgO3bap"
      },
      "source": [
        "!mkdir '/content/drive/My Drive/Giz_NLP_AUDIO'"
      ],
      "execution_count": null,
      "outputs": []
    },
    {
      "cell_type": "code",
      "metadata": {
        "id": "7J2cLj383Rcx"
      },
      "source": [
        "!cp Final_Full_GIZ_Spec_imgs.zip '/content/drive/My Drive/Giz_NLP_AUDIO'"
      ],
      "execution_count": null,
      "outputs": []
    },
    {
      "cell_type": "markdown",
      "metadata": {
        "id": "4pqdCLpi3tZr"
      },
      "source": [
        "# `we will save model weights in Resnext101 folder `"
      ]
    },
    {
      "cell_type": "code",
      "metadata": {
        "id": "cQifAfPK3nd5"
      },
      "source": [
        "!mkdir  \"/content/drive/MyDrive/Giz_NLP_AUDIO/Resnext101\""
      ],
      "execution_count": null,
      "outputs": []
    }
  ]
}