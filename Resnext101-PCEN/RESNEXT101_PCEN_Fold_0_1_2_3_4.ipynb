{
  "nbformat": 4,
  "nbformat_minor": 0,
  "metadata": {
    "colab": {
      "name": "RESNEXT101_PCEN_Fold_0_1_2_3_4.ipynb",
      "provenance": [],
      "collapsed_sections": [
        "dj6ClNh29kJQ",
        "dDl56F0693al",
        "X7jcq0Ot-LbF",
        "YloSNB5BvkA_",
        "Q46cS7UU9KOj",
        "b95OFl849OgV",
        "ndRsefTTj7qv",
        "GXoUQeR6Mbcy",
        "ZbJrOgNCMexN",
        "vyMMCdNSN7jo"
      ]
    },
    "kernelspec": {
      "name": "python3",
      "display_name": "Python 3"
    },
    "accelerator": "GPU",
    "widgets": {
      "application/vnd.jupyter.widget-state+json": {
        "eafadf509657403b8cf76c2cfa0908fd": {
          "model_module": "@jupyter-widgets/controls",
          "model_name": "HBoxModel",
          "state": {
            "_view_name": "HBoxView",
            "_dom_classes": [],
            "_model_name": "HBoxModel",
            "_view_module": "@jupyter-widgets/controls",
            "_model_module_version": "1.5.0",
            "_view_count": null,
            "_view_module_version": "1.5.0",
            "box_style": "",
            "layout": "IPY_MODEL_c04b6ddc6b2743829257489a5867aea6",
            "_model_module": "@jupyter-widgets/controls",
            "children": [
              "IPY_MODEL_cf0fde23b213410c98e02317bfdad635",
              "IPY_MODEL_58ed35d37e0742b3b8f40b34250cbcc1"
            ]
          }
        },
        "c04b6ddc6b2743829257489a5867aea6": {
          "model_module": "@jupyter-widgets/base",
          "model_name": "LayoutModel",
          "state": {
            "_view_name": "LayoutView",
            "grid_template_rows": null,
            "right": null,
            "justify_content": null,
            "_view_module": "@jupyter-widgets/base",
            "overflow": null,
            "_model_module_version": "1.2.0",
            "_view_count": null,
            "flex_flow": null,
            "width": null,
            "min_width": null,
            "border": null,
            "align_items": null,
            "bottom": null,
            "_model_module": "@jupyter-widgets/base",
            "top": null,
            "grid_column": null,
            "overflow_y": null,
            "overflow_x": null,
            "grid_auto_flow": null,
            "grid_area": null,
            "grid_template_columns": null,
            "flex": null,
            "_model_name": "LayoutModel",
            "justify_items": null,
            "grid_row": null,
            "max_height": null,
            "align_content": null,
            "visibility": null,
            "align_self": null,
            "height": null,
            "min_height": null,
            "padding": null,
            "grid_auto_rows": null,
            "grid_gap": null,
            "max_width": null,
            "order": null,
            "_view_module_version": "1.2.0",
            "grid_template_areas": null,
            "object_position": null,
            "object_fit": null,
            "grid_auto_columns": null,
            "margin": null,
            "display": null,
            "left": null
          }
        },
        "cf0fde23b213410c98e02317bfdad635": {
          "model_module": "@jupyter-widgets/controls",
          "model_name": "FloatProgressModel",
          "state": {
            "_view_name": "ProgressView",
            "style": "IPY_MODEL_dadb4d4344f64cab89fbd70a865eab7e",
            "_dom_classes": [],
            "description": "100%",
            "_model_name": "FloatProgressModel",
            "bar_style": "success",
            "max": 129,
            "_view_module": "@jupyter-widgets/controls",
            "_model_module_version": "1.5.0",
            "value": 129,
            "_view_count": null,
            "_view_module_version": "1.5.0",
            "orientation": "horizontal",
            "min": 0,
            "description_tooltip": null,
            "_model_module": "@jupyter-widgets/controls",
            "layout": "IPY_MODEL_6fb8baf8d1f64c7d81d0f0a5e2446c88"
          }
        },
        "58ed35d37e0742b3b8f40b34250cbcc1": {
          "model_module": "@jupyter-widgets/controls",
          "model_name": "HTMLModel",
          "state": {
            "_view_name": "HTMLView",
            "style": "IPY_MODEL_76f76cbca23e4180a1296753f552aaba",
            "_dom_classes": [],
            "description": "",
            "_model_name": "HTMLModel",
            "placeholder": "​",
            "_view_module": "@jupyter-widgets/controls",
            "_model_module_version": "1.5.0",
            "value": " 129/129 [00:24&lt;00:00,  5.25it/s]",
            "_view_count": null,
            "_view_module_version": "1.5.0",
            "description_tooltip": null,
            "_model_module": "@jupyter-widgets/controls",
            "layout": "IPY_MODEL_e778110e4f3c4f27ae5d8a7d07f8b5f5"
          }
        },
        "dadb4d4344f64cab89fbd70a865eab7e": {
          "model_module": "@jupyter-widgets/controls",
          "model_name": "ProgressStyleModel",
          "state": {
            "_view_name": "StyleView",
            "_model_name": "ProgressStyleModel",
            "description_width": "initial",
            "_view_module": "@jupyter-widgets/base",
            "_model_module_version": "1.5.0",
            "_view_count": null,
            "_view_module_version": "1.2.0",
            "bar_color": null,
            "_model_module": "@jupyter-widgets/controls"
          }
        },
        "6fb8baf8d1f64c7d81d0f0a5e2446c88": {
          "model_module": "@jupyter-widgets/base",
          "model_name": "LayoutModel",
          "state": {
            "_view_name": "LayoutView",
            "grid_template_rows": null,
            "right": null,
            "justify_content": null,
            "_view_module": "@jupyter-widgets/base",
            "overflow": null,
            "_model_module_version": "1.2.0",
            "_view_count": null,
            "flex_flow": null,
            "width": null,
            "min_width": null,
            "border": null,
            "align_items": null,
            "bottom": null,
            "_model_module": "@jupyter-widgets/base",
            "top": null,
            "grid_column": null,
            "overflow_y": null,
            "overflow_x": null,
            "grid_auto_flow": null,
            "grid_area": null,
            "grid_template_columns": null,
            "flex": null,
            "_model_name": "LayoutModel",
            "justify_items": null,
            "grid_row": null,
            "max_height": null,
            "align_content": null,
            "visibility": null,
            "align_self": null,
            "height": null,
            "min_height": null,
            "padding": null,
            "grid_auto_rows": null,
            "grid_gap": null,
            "max_width": null,
            "order": null,
            "_view_module_version": "1.2.0",
            "grid_template_areas": null,
            "object_position": null,
            "object_fit": null,
            "grid_auto_columns": null,
            "margin": null,
            "display": null,
            "left": null
          }
        },
        "76f76cbca23e4180a1296753f552aaba": {
          "model_module": "@jupyter-widgets/controls",
          "model_name": "DescriptionStyleModel",
          "state": {
            "_view_name": "StyleView",
            "_model_name": "DescriptionStyleModel",
            "description_width": "",
            "_view_module": "@jupyter-widgets/base",
            "_model_module_version": "1.5.0",
            "_view_count": null,
            "_view_module_version": "1.2.0",
            "_model_module": "@jupyter-widgets/controls"
          }
        },
        "e778110e4f3c4f27ae5d8a7d07f8b5f5": {
          "model_module": "@jupyter-widgets/base",
          "model_name": "LayoutModel",
          "state": {
            "_view_name": "LayoutView",
            "grid_template_rows": null,
            "right": null,
            "justify_content": null,
            "_view_module": "@jupyter-widgets/base",
            "overflow": null,
            "_model_module_version": "1.2.0",
            "_view_count": null,
            "flex_flow": null,
            "width": null,
            "min_width": null,
            "border": null,
            "align_items": null,
            "bottom": null,
            "_model_module": "@jupyter-widgets/base",
            "top": null,
            "grid_column": null,
            "overflow_y": null,
            "overflow_x": null,
            "grid_auto_flow": null,
            "grid_area": null,
            "grid_template_columns": null,
            "flex": null,
            "_model_name": "LayoutModel",
            "justify_items": null,
            "grid_row": null,
            "max_height": null,
            "align_content": null,
            "visibility": null,
            "align_self": null,
            "height": null,
            "min_height": null,
            "padding": null,
            "grid_auto_rows": null,
            "grid_gap": null,
            "max_width": null,
            "order": null,
            "_view_module_version": "1.2.0",
            "grid_template_areas": null,
            "object_position": null,
            "object_fit": null,
            "grid_auto_columns": null,
            "margin": null,
            "display": null,
            "left": null
          }
        },
        "787e7227a245420dbe313b44ca82df33": {
          "model_module": "@jupyter-widgets/controls",
          "model_name": "HBoxModel",
          "state": {
            "_view_name": "HBoxView",
            "_dom_classes": [],
            "_model_name": "HBoxModel",
            "_view_module": "@jupyter-widgets/controls",
            "_model_module_version": "1.5.0",
            "_view_count": null,
            "_view_module_version": "1.5.0",
            "box_style": "",
            "layout": "IPY_MODEL_94b8f351e8e04fcaa6bc1cd1ae58cbe6",
            "_model_module": "@jupyter-widgets/controls",
            "children": [
              "IPY_MODEL_559b5a55100f4855883ee02cebfe5384",
              "IPY_MODEL_9229eb63c21741b189ab6f7dc2af09be"
            ]
          }
        },
        "94b8f351e8e04fcaa6bc1cd1ae58cbe6": {
          "model_module": "@jupyter-widgets/base",
          "model_name": "LayoutModel",
          "state": {
            "_view_name": "LayoutView",
            "grid_template_rows": null,
            "right": null,
            "justify_content": null,
            "_view_module": "@jupyter-widgets/base",
            "overflow": null,
            "_model_module_version": "1.2.0",
            "_view_count": null,
            "flex_flow": null,
            "width": null,
            "min_width": null,
            "border": null,
            "align_items": null,
            "bottom": null,
            "_model_module": "@jupyter-widgets/base",
            "top": null,
            "grid_column": null,
            "overflow_y": null,
            "overflow_x": null,
            "grid_auto_flow": null,
            "grid_area": null,
            "grid_template_columns": null,
            "flex": null,
            "_model_name": "LayoutModel",
            "justify_items": null,
            "grid_row": null,
            "max_height": null,
            "align_content": null,
            "visibility": null,
            "align_self": null,
            "height": null,
            "min_height": null,
            "padding": null,
            "grid_auto_rows": null,
            "grid_gap": null,
            "max_width": null,
            "order": null,
            "_view_module_version": "1.2.0",
            "grid_template_areas": null,
            "object_position": null,
            "object_fit": null,
            "grid_auto_columns": null,
            "margin": null,
            "display": null,
            "left": null
          }
        },
        "559b5a55100f4855883ee02cebfe5384": {
          "model_module": "@jupyter-widgets/controls",
          "model_name": "FloatProgressModel",
          "state": {
            "_view_name": "ProgressView",
            "style": "IPY_MODEL_15445879018c4f77bfd303277f8dbd14",
            "_dom_classes": [],
            "description": "100%",
            "_model_name": "FloatProgressModel",
            "bar_style": "success",
            "max": 122,
            "_view_module": "@jupyter-widgets/controls",
            "_model_module_version": "1.5.0",
            "value": 122,
            "_view_count": null,
            "_view_module_version": "1.5.0",
            "orientation": "horizontal",
            "min": 0,
            "description_tooltip": null,
            "_model_module": "@jupyter-widgets/controls",
            "layout": "IPY_MODEL_0854f03cd38f444c89e3737db1979a8c"
          }
        },
        "9229eb63c21741b189ab6f7dc2af09be": {
          "model_module": "@jupyter-widgets/controls",
          "model_name": "HTMLModel",
          "state": {
            "_view_name": "HTMLView",
            "style": "IPY_MODEL_8bea532cb8024eccb01806df66e712d7",
            "_dom_classes": [],
            "description": "",
            "_model_name": "HTMLModel",
            "placeholder": "​",
            "_view_module": "@jupyter-widgets/controls",
            "_model_module_version": "1.5.0",
            "value": " 122/122 [00:03&lt;00:00, 40.19it/s]",
            "_view_count": null,
            "_view_module_version": "1.5.0",
            "description_tooltip": null,
            "_model_module": "@jupyter-widgets/controls",
            "layout": "IPY_MODEL_a36b9444249a405ca5cf6fb10302db84"
          }
        },
        "15445879018c4f77bfd303277f8dbd14": {
          "model_module": "@jupyter-widgets/controls",
          "model_name": "ProgressStyleModel",
          "state": {
            "_view_name": "StyleView",
            "_model_name": "ProgressStyleModel",
            "description_width": "initial",
            "_view_module": "@jupyter-widgets/base",
            "_model_module_version": "1.5.0",
            "_view_count": null,
            "_view_module_version": "1.2.0",
            "bar_color": null,
            "_model_module": "@jupyter-widgets/controls"
          }
        },
        "0854f03cd38f444c89e3737db1979a8c": {
          "model_module": "@jupyter-widgets/base",
          "model_name": "LayoutModel",
          "state": {
            "_view_name": "LayoutView",
            "grid_template_rows": null,
            "right": null,
            "justify_content": null,
            "_view_module": "@jupyter-widgets/base",
            "overflow": null,
            "_model_module_version": "1.2.0",
            "_view_count": null,
            "flex_flow": null,
            "width": null,
            "min_width": null,
            "border": null,
            "align_items": null,
            "bottom": null,
            "_model_module": "@jupyter-widgets/base",
            "top": null,
            "grid_column": null,
            "overflow_y": null,
            "overflow_x": null,
            "grid_auto_flow": null,
            "grid_area": null,
            "grid_template_columns": null,
            "flex": null,
            "_model_name": "LayoutModel",
            "justify_items": null,
            "grid_row": null,
            "max_height": null,
            "align_content": null,
            "visibility": null,
            "align_self": null,
            "height": null,
            "min_height": null,
            "padding": null,
            "grid_auto_rows": null,
            "grid_gap": null,
            "max_width": null,
            "order": null,
            "_view_module_version": "1.2.0",
            "grid_template_areas": null,
            "object_position": null,
            "object_fit": null,
            "grid_auto_columns": null,
            "margin": null,
            "display": null,
            "left": null
          }
        },
        "8bea532cb8024eccb01806df66e712d7": {
          "model_module": "@jupyter-widgets/controls",
          "model_name": "DescriptionStyleModel",
          "state": {
            "_view_name": "StyleView",
            "_model_name": "DescriptionStyleModel",
            "description_width": "",
            "_view_module": "@jupyter-widgets/base",
            "_model_module_version": "1.5.0",
            "_view_count": null,
            "_view_module_version": "1.2.0",
            "_model_module": "@jupyter-widgets/controls"
          }
        },
        "a36b9444249a405ca5cf6fb10302db84": {
          "model_module": "@jupyter-widgets/base",
          "model_name": "LayoutModel",
          "state": {
            "_view_name": "LayoutView",
            "grid_template_rows": null,
            "right": null,
            "justify_content": null,
            "_view_module": "@jupyter-widgets/base",
            "overflow": null,
            "_model_module_version": "1.2.0",
            "_view_count": null,
            "flex_flow": null,
            "width": null,
            "min_width": null,
            "border": null,
            "align_items": null,
            "bottom": null,
            "_model_module": "@jupyter-widgets/base",
            "top": null,
            "grid_column": null,
            "overflow_y": null,
            "overflow_x": null,
            "grid_auto_flow": null,
            "grid_area": null,
            "grid_template_columns": null,
            "flex": null,
            "_model_name": "LayoutModel",
            "justify_items": null,
            "grid_row": null,
            "max_height": null,
            "align_content": null,
            "visibility": null,
            "align_self": null,
            "height": null,
            "min_height": null,
            "padding": null,
            "grid_auto_rows": null,
            "grid_gap": null,
            "max_width": null,
            "order": null,
            "_view_module_version": "1.2.0",
            "grid_template_areas": null,
            "object_position": null,
            "object_fit": null,
            "grid_auto_columns": null,
            "margin": null,
            "display": null,
            "left": null
          }
        },
        "63a0f93b24cd4c9198d27ab13f42cfa4": {
          "model_module": "@jupyter-widgets/controls",
          "model_name": "HBoxModel",
          "state": {
            "_view_name": "HBoxView",
            "_dom_classes": [],
            "_model_name": "HBoxModel",
            "_view_module": "@jupyter-widgets/controls",
            "_model_module_version": "1.5.0",
            "_view_count": null,
            "_view_module_version": "1.5.0",
            "box_style": "",
            "layout": "IPY_MODEL_996f63edca594c1cb42a6e31cc8db153",
            "_model_module": "@jupyter-widgets/controls",
            "children": [
              "IPY_MODEL_c7249ca435a64f9c9bff5ef014e6d415",
              "IPY_MODEL_70fd1a34c9964b199f31211962bbfaa6"
            ]
          }
        },
        "996f63edca594c1cb42a6e31cc8db153": {
          "model_module": "@jupyter-widgets/base",
          "model_name": "LayoutModel",
          "state": {
            "_view_name": "LayoutView",
            "grid_template_rows": null,
            "right": null,
            "justify_content": null,
            "_view_module": "@jupyter-widgets/base",
            "overflow": null,
            "_model_module_version": "1.2.0",
            "_view_count": null,
            "flex_flow": null,
            "width": null,
            "min_width": null,
            "border": null,
            "align_items": null,
            "bottom": null,
            "_model_module": "@jupyter-widgets/base",
            "top": null,
            "grid_column": null,
            "overflow_y": null,
            "overflow_x": null,
            "grid_auto_flow": null,
            "grid_area": null,
            "grid_template_columns": null,
            "flex": null,
            "_model_name": "LayoutModel",
            "justify_items": null,
            "grid_row": null,
            "max_height": null,
            "align_content": null,
            "visibility": null,
            "align_self": null,
            "height": null,
            "min_height": null,
            "padding": null,
            "grid_auto_rows": null,
            "grid_gap": null,
            "max_width": null,
            "order": null,
            "_view_module_version": "1.2.0",
            "grid_template_areas": null,
            "object_position": null,
            "object_fit": null,
            "grid_auto_columns": null,
            "margin": null,
            "display": null,
            "left": null
          }
        },
        "c7249ca435a64f9c9bff5ef014e6d415": {
          "model_module": "@jupyter-widgets/controls",
          "model_name": "FloatProgressModel",
          "state": {
            "_view_name": "ProgressView",
            "style": "IPY_MODEL_248a4124a29149f5b03918c04a27a586",
            "_dom_classes": [],
            "description": "100%",
            "_model_name": "FloatProgressModel",
            "bar_style": "success",
            "max": 1109,
            "_view_module": "@jupyter-widgets/controls",
            "_model_module_version": "1.5.0",
            "value": 1109,
            "_view_count": null,
            "_view_module_version": "1.5.0",
            "orientation": "horizontal",
            "min": 0,
            "description_tooltip": null,
            "_model_module": "@jupyter-widgets/controls",
            "layout": "IPY_MODEL_b42d159647f5499f86348af283c7eae4"
          }
        },
        "70fd1a34c9964b199f31211962bbfaa6": {
          "model_module": "@jupyter-widgets/controls",
          "model_name": "HTMLModel",
          "state": {
            "_view_name": "HTMLView",
            "style": "IPY_MODEL_42ab4c400da8443bba66dcce43c7bb3c",
            "_dom_classes": [],
            "description": "",
            "_model_name": "HTMLModel",
            "placeholder": "​",
            "_view_module": "@jupyter-widgets/controls",
            "_model_module_version": "1.5.0",
            "value": " 1109/1109 [00:01&lt;00:00, 704.25it/s]",
            "_view_count": null,
            "_view_module_version": "1.5.0",
            "description_tooltip": null,
            "_model_module": "@jupyter-widgets/controls",
            "layout": "IPY_MODEL_e5f5d86f8788479ab57562f7cb89dca9"
          }
        },
        "248a4124a29149f5b03918c04a27a586": {
          "model_module": "@jupyter-widgets/controls",
          "model_name": "ProgressStyleModel",
          "state": {
            "_view_name": "StyleView",
            "_model_name": "ProgressStyleModel",
            "description_width": "initial",
            "_view_module": "@jupyter-widgets/base",
            "_model_module_version": "1.5.0",
            "_view_count": null,
            "_view_module_version": "1.2.0",
            "bar_color": null,
            "_model_module": "@jupyter-widgets/controls"
          }
        },
        "b42d159647f5499f86348af283c7eae4": {
          "model_module": "@jupyter-widgets/base",
          "model_name": "LayoutModel",
          "state": {
            "_view_name": "LayoutView",
            "grid_template_rows": null,
            "right": null,
            "justify_content": null,
            "_view_module": "@jupyter-widgets/base",
            "overflow": null,
            "_model_module_version": "1.2.0",
            "_view_count": null,
            "flex_flow": null,
            "width": null,
            "min_width": null,
            "border": null,
            "align_items": null,
            "bottom": null,
            "_model_module": "@jupyter-widgets/base",
            "top": null,
            "grid_column": null,
            "overflow_y": null,
            "overflow_x": null,
            "grid_auto_flow": null,
            "grid_area": null,
            "grid_template_columns": null,
            "flex": null,
            "_model_name": "LayoutModel",
            "justify_items": null,
            "grid_row": null,
            "max_height": null,
            "align_content": null,
            "visibility": null,
            "align_self": null,
            "height": null,
            "min_height": null,
            "padding": null,
            "grid_auto_rows": null,
            "grid_gap": null,
            "max_width": null,
            "order": null,
            "_view_module_version": "1.2.0",
            "grid_template_areas": null,
            "object_position": null,
            "object_fit": null,
            "grid_auto_columns": null,
            "margin": null,
            "display": null,
            "left": null
          }
        },
        "42ab4c400da8443bba66dcce43c7bb3c": {
          "model_module": "@jupyter-widgets/controls",
          "model_name": "DescriptionStyleModel",
          "state": {
            "_view_name": "StyleView",
            "_model_name": "DescriptionStyleModel",
            "description_width": "",
            "_view_module": "@jupyter-widgets/base",
            "_model_module_version": "1.5.0",
            "_view_count": null,
            "_view_module_version": "1.2.0",
            "_model_module": "@jupyter-widgets/controls"
          }
        },
        "e5f5d86f8788479ab57562f7cb89dca9": {
          "model_module": "@jupyter-widgets/base",
          "model_name": "LayoutModel",
          "state": {
            "_view_name": "LayoutView",
            "grid_template_rows": null,
            "right": null,
            "justify_content": null,
            "_view_module": "@jupyter-widgets/base",
            "overflow": null,
            "_model_module_version": "1.2.0",
            "_view_count": null,
            "flex_flow": null,
            "width": null,
            "min_width": null,
            "border": null,
            "align_items": null,
            "bottom": null,
            "_model_module": "@jupyter-widgets/base",
            "top": null,
            "grid_column": null,
            "overflow_y": null,
            "overflow_x": null,
            "grid_auto_flow": null,
            "grid_area": null,
            "grid_template_columns": null,
            "flex": null,
            "_model_name": "LayoutModel",
            "justify_items": null,
            "grid_row": null,
            "max_height": null,
            "align_content": null,
            "visibility": null,
            "align_self": null,
            "height": null,
            "min_height": null,
            "padding": null,
            "grid_auto_rows": null,
            "grid_gap": null,
            "max_width": null,
            "order": null,
            "_view_module_version": "1.2.0",
            "grid_template_areas": null,
            "object_position": null,
            "object_fit": null,
            "grid_auto_columns": null,
            "margin": null,
            "display": null,
            "left": null
          }
        },
        "b3566e80d8d44f32b408d9aed4f9647e": {
          "model_module": "@jupyter-widgets/controls",
          "model_name": "HBoxModel",
          "state": {
            "_view_name": "HBoxView",
            "_dom_classes": [],
            "_model_name": "HBoxModel",
            "_view_module": "@jupyter-widgets/controls",
            "_model_module_version": "1.5.0",
            "_view_count": null,
            "_view_module_version": "1.5.0",
            "box_style": "",
            "layout": "IPY_MODEL_523112da66f446d8b0acea37ac14f444",
            "_model_module": "@jupyter-widgets/controls",
            "children": [
              "IPY_MODEL_919b6f48b85246f3aa3e3dc7aa611bd7",
              "IPY_MODEL_7da714f25f264a8a9198aa0bf4e26b18"
            ]
          }
        },
        "523112da66f446d8b0acea37ac14f444": {
          "model_module": "@jupyter-widgets/base",
          "model_name": "LayoutModel",
          "state": {
            "_view_name": "LayoutView",
            "grid_template_rows": null,
            "right": null,
            "justify_content": null,
            "_view_module": "@jupyter-widgets/base",
            "overflow": null,
            "_model_module_version": "1.2.0",
            "_view_count": null,
            "flex_flow": null,
            "width": null,
            "min_width": null,
            "border": null,
            "align_items": null,
            "bottom": null,
            "_model_module": "@jupyter-widgets/base",
            "top": null,
            "grid_column": null,
            "overflow_y": null,
            "overflow_x": null,
            "grid_auto_flow": null,
            "grid_area": null,
            "grid_template_columns": null,
            "flex": null,
            "_model_name": "LayoutModel",
            "justify_items": null,
            "grid_row": null,
            "max_height": null,
            "align_content": null,
            "visibility": null,
            "align_self": null,
            "height": null,
            "min_height": null,
            "padding": null,
            "grid_auto_rows": null,
            "grid_gap": null,
            "max_width": null,
            "order": null,
            "_view_module_version": "1.2.0",
            "grid_template_areas": null,
            "object_position": null,
            "object_fit": null,
            "grid_auto_columns": null,
            "margin": null,
            "display": null,
            "left": null
          }
        },
        "919b6f48b85246f3aa3e3dc7aa611bd7": {
          "model_module": "@jupyter-widgets/controls",
          "model_name": "FloatProgressModel",
          "state": {
            "_view_name": "ProgressView",
            "style": "IPY_MODEL_b185a80c407d4a4db2679872289f7d5b",
            "_dom_classes": [],
            "description": "100%",
            "_model_name": "FloatProgressModel",
            "bar_style": "success",
            "max": 3478,
            "_view_module": "@jupyter-widgets/controls",
            "_model_module_version": "1.5.0",
            "value": 3478,
            "_view_count": null,
            "_view_module_version": "1.5.0",
            "orientation": "horizontal",
            "min": 0,
            "description_tooltip": null,
            "_model_module": "@jupyter-widgets/controls",
            "layout": "IPY_MODEL_594154720293462ea3f4091a2cf0a9c0"
          }
        },
        "7da714f25f264a8a9198aa0bf4e26b18": {
          "model_module": "@jupyter-widgets/controls",
          "model_name": "HTMLModel",
          "state": {
            "_view_name": "HTMLView",
            "style": "IPY_MODEL_7b62fe3207a54891a020d7e5eda1d28c",
            "_dom_classes": [],
            "description": "",
            "_model_name": "HTMLModel",
            "placeholder": "​",
            "_view_module": "@jupyter-widgets/controls",
            "_model_module_version": "1.5.0",
            "value": " 3478/3478 [00:01&lt;00:00, 1804.56it/s]",
            "_view_count": null,
            "_view_module_version": "1.5.0",
            "description_tooltip": null,
            "_model_module": "@jupyter-widgets/controls",
            "layout": "IPY_MODEL_b37f8504a5b34590b29432c5a93e0387"
          }
        },
        "b185a80c407d4a4db2679872289f7d5b": {
          "model_module": "@jupyter-widgets/controls",
          "model_name": "ProgressStyleModel",
          "state": {
            "_view_name": "StyleView",
            "_model_name": "ProgressStyleModel",
            "description_width": "initial",
            "_view_module": "@jupyter-widgets/base",
            "_model_module_version": "1.5.0",
            "_view_count": null,
            "_view_module_version": "1.2.0",
            "bar_color": null,
            "_model_module": "@jupyter-widgets/controls"
          }
        },
        "594154720293462ea3f4091a2cf0a9c0": {
          "model_module": "@jupyter-widgets/base",
          "model_name": "LayoutModel",
          "state": {
            "_view_name": "LayoutView",
            "grid_template_rows": null,
            "right": null,
            "justify_content": null,
            "_view_module": "@jupyter-widgets/base",
            "overflow": null,
            "_model_module_version": "1.2.0",
            "_view_count": null,
            "flex_flow": null,
            "width": null,
            "min_width": null,
            "border": null,
            "align_items": null,
            "bottom": null,
            "_model_module": "@jupyter-widgets/base",
            "top": null,
            "grid_column": null,
            "overflow_y": null,
            "overflow_x": null,
            "grid_auto_flow": null,
            "grid_area": null,
            "grid_template_columns": null,
            "flex": null,
            "_model_name": "LayoutModel",
            "justify_items": null,
            "grid_row": null,
            "max_height": null,
            "align_content": null,
            "visibility": null,
            "align_self": null,
            "height": null,
            "min_height": null,
            "padding": null,
            "grid_auto_rows": null,
            "grid_gap": null,
            "max_width": null,
            "order": null,
            "_view_module_version": "1.2.0",
            "grid_template_areas": null,
            "object_position": null,
            "object_fit": null,
            "grid_auto_columns": null,
            "margin": null,
            "display": null,
            "left": null
          }
        },
        "7b62fe3207a54891a020d7e5eda1d28c": {
          "model_module": "@jupyter-widgets/controls",
          "model_name": "DescriptionStyleModel",
          "state": {
            "_view_name": "StyleView",
            "_model_name": "DescriptionStyleModel",
            "description_width": "",
            "_view_module": "@jupyter-widgets/base",
            "_model_module_version": "1.5.0",
            "_view_count": null,
            "_view_module_version": "1.2.0",
            "_model_module": "@jupyter-widgets/controls"
          }
        },
        "b37f8504a5b34590b29432c5a93e0387": {
          "model_module": "@jupyter-widgets/base",
          "model_name": "LayoutModel",
          "state": {
            "_view_name": "LayoutView",
            "grid_template_rows": null,
            "right": null,
            "justify_content": null,
            "_view_module": "@jupyter-widgets/base",
            "overflow": null,
            "_model_module_version": "1.2.0",
            "_view_count": null,
            "flex_flow": null,
            "width": null,
            "min_width": null,
            "border": null,
            "align_items": null,
            "bottom": null,
            "_model_module": "@jupyter-widgets/base",
            "top": null,
            "grid_column": null,
            "overflow_y": null,
            "overflow_x": null,
            "grid_auto_flow": null,
            "grid_area": null,
            "grid_template_columns": null,
            "flex": null,
            "_model_name": "LayoutModel",
            "justify_items": null,
            "grid_row": null,
            "max_height": null,
            "align_content": null,
            "visibility": null,
            "align_self": null,
            "height": null,
            "min_height": null,
            "padding": null,
            "grid_auto_rows": null,
            "grid_gap": null,
            "max_width": null,
            "order": null,
            "_view_module_version": "1.2.0",
            "grid_template_areas": null,
            "object_position": null,
            "object_fit": null,
            "grid_auto_columns": null,
            "margin": null,
            "display": null,
            "left": null
          }
        }
      }
    }
  },
  "cells": [
    {
      "cell_type": "markdown",
      "metadata": {
        "id": "dj6ClNh29kJQ"
      },
      "source": [
        "# **Setup**"
      ]
    },
    {
      "cell_type": "code",
      "metadata": {
        "id": "gjk86SJu-27N",
        "colab": {
          "base_uri": "https://localhost:8080/"
        },
        "outputId": "7246f7d9-0826-42f7-e015-013109532d7a"
      },
      "source": [
        "!nvidia-smi"
      ],
      "execution_count": null,
      "outputs": [
        {
          "output_type": "stream",
          "text": [
            "Wed Dec  2 17:21:46 2020       \n",
            "+-----------------------------------------------------------------------------+\n",
            "| NVIDIA-SMI 455.38       Driver Version: 418.67       CUDA Version: 10.1     |\n",
            "|-------------------------------+----------------------+----------------------+\n",
            "| GPU  Name        Persistence-M| Bus-Id        Disp.A | Volatile Uncorr. ECC |\n",
            "| Fan  Temp  Perf  Pwr:Usage/Cap|         Memory-Usage | GPU-Util  Compute M. |\n",
            "|                               |                      |               MIG M. |\n",
            "|===============================+======================+======================|\n",
            "|   0  Tesla T4            Off  | 00000000:00:04.0 Off |                    0 |\n",
            "| N/A   66C    P8    12W /  70W |      0MiB / 15079MiB |      0%      Default |\n",
            "|                               |                      |                 ERR! |\n",
            "+-------------------------------+----------------------+----------------------+\n",
            "                                                                               \n",
            "+-----------------------------------------------------------------------------+\n",
            "| Processes:                                                                  |\n",
            "|  GPU   GI   CI        PID   Type   Process name                  GPU Memory |\n",
            "|        ID   ID                                                   Usage      |\n",
            "|=============================================================================|\n",
            "|  No running processes found                                                 |\n",
            "+-----------------------------------------------------------------------------+\n"
          ],
          "name": "stdout"
        }
      ]
    },
    {
      "cell_type": "code",
      "metadata": {
        "id": "oRuYHtWt9eG8",
        "colab": {
          "base_uri": "https://localhost:8080/"
        },
        "outputId": "6b46fa88-ced8-4929-85b9-65c76d886a1b"
      },
      "source": [
        "from google.colab import drive\n",
        "drive.mount('/content/drive')"
      ],
      "execution_count": null,
      "outputs": [
        {
          "output_type": "stream",
          "text": [
            "Mounted at /content/drive\n"
          ],
          "name": "stdout"
        }
      ]
    },
    {
      "cell_type": "code",
      "metadata": {
        "id": "NX4y2Uzh-hwL",
        "colab": {
          "base_uri": "https://localhost:8080/"
        },
        "outputId": "7306e9a8-3c48-474c-e811-628ecdd874b2"
      },
      "source": [
        "!pip install efficientnet_pytorch -q\n",
        "!pip install pretrainedmodels -q\n",
        "!pip install librosa -U --quiet\n",
        "!pip install pytorch-lightning -q"
      ],
      "execution_count": null,
      "outputs": [
        {
          "output_type": "stream",
          "text": [
            "  Building wheel for efficientnet-pytorch (setup.py) ... \u001b[?25l\u001b[?25hdone\n",
            "\u001b[K     |████████████████████████████████| 61kB 5.0MB/s \n",
            "\u001b[?25h  Building wheel for pretrainedmodels (setup.py) ... \u001b[?25l\u001b[?25hdone\n",
            "\u001b[K     |████████████████████████████████| 184kB 8.1MB/s \n",
            "\u001b[K     |████████████████████████████████| 61kB 6.7MB/s \n",
            "\u001b[?25h  Building wheel for librosa (setup.py) ... \u001b[?25l\u001b[?25hdone\n",
            "\u001b[K     |████████████████████████████████| 563kB 7.6MB/s \n",
            "\u001b[K     |████████████████████████████████| 92kB 8.8MB/s \n",
            "\u001b[K     |████████████████████████████████| 829kB 5.8MB/s \n",
            "\u001b[K     |████████████████████████████████| 276kB 24.9MB/s \n",
            "\u001b[?25h  Building wheel for future (setup.py) ... \u001b[?25l\u001b[?25hdone\n",
            "  Building wheel for PyYAML (setup.py) ... \u001b[?25l\u001b[?25hdone\n"
          ],
          "name": "stdout"
        }
      ]
    },
    {
      "cell_type": "markdown",
      "metadata": {
        "id": "dDl56F0693al"
      },
      "source": [
        "# **Libraries-ENV**"
      ]
    },
    {
      "cell_type": "code",
      "metadata": {
        "id": "hlWaJmK3943-"
      },
      "source": [
        "import os\n",
        "import numpy as np\n",
        "import pandas as pd\n",
        "import sys\n",
        "import cv2\n",
        "import glob\n",
        "import math\n",
        "import random\n",
        "import librosa\n",
        "import zipfile\n",
        "from librosa import display as libdisplay\n",
        "from tqdm.notebook import tqdm\n",
        "import warnings\n",
        "warnings.simplefilter('ignore')\n",
        "import IPython.display as ipd\n",
        "from matplotlib import pyplot as plt\n",
        "from sklearn.model_selection import train_test_split, StratifiedKFold\n",
        "from sklearn.metrics import log_loss\n",
        "import torch\n",
        "import torch.nn as nn\n",
        "import torch.nn.functional as F\n",
        "from torchvision import models\n",
        "from keras.utils import to_categorical\n",
        "from PIL import Image\n",
        "from sklearn.model_selection import train_test_split\n",
        "from torchvision import datasets, transforms, models\n",
        "from torch.utils.data import DataLoader, Dataset\n",
        "import torch.nn as nn\n",
        "from torchvision import transforms\n",
        "import torch\n",
        "import torchvision\n",
        "import torchvision.models as models\n",
        "from efficientnet_pytorch import EfficientNet\n",
        "from torch.optim.lr_scheduler import MultiStepLR\n",
        "from torch.optim.lr_scheduler import OneCycleLR\n",
        "import pandas as pd \n",
        "import numpy as np\n",
        "import sklearn\n",
        "from sklearn.model_selection import StratifiedKFold\n",
        "from sklearn.metrics import accuracy_score, roc_auc_score\n",
        "from tqdm import tqdm_notebook as tqdm \n",
        "from sklearn.model_selection import train_test_split\n",
        "import albumentations\n",
        "from albumentations import torch as AT\n",
        "import cv2"
      ],
      "execution_count": null,
      "outputs": []
    },
    {
      "cell_type": "code",
      "metadata": {
        "id": "fzl6wnmU-Fdd"
      },
      "source": [
        "path = ''"
      ],
      "execution_count": null,
      "outputs": []
    },
    {
      "cell_type": "code",
      "metadata": {
        "id": "epSJc3bG-NpG"
      },
      "source": [
        "SEED_VAL  = 0\n",
        "# Set the seed value all over the place to make this reproducible.\n",
        "def seed_all(SEED):\n",
        "  random.seed(SEED_VAL)\n",
        "  np.random.seed(SEED_VAL)\n",
        "  torch.manual_seed(SEED_VAL)\n",
        "  torch.cuda.manual_seed_all(SEED_VAL)\n",
        "  os.environ['PYTHONHASHSEED'] = str(SEED_VAL)\n",
        "  torch.backends.cudnn.deterministic = True\n",
        "  torch.backends.cudnn.benchmark = False"
      ],
      "execution_count": null,
      "outputs": []
    },
    {
      "cell_type": "code",
      "metadata": {
        "id": "By6Eqx5k_Fwf"
      },
      "source": [
        "#will store our models here\n",
        "os.makedirs('MODELS/', exist_ok=True)"
      ],
      "execution_count": null,
      "outputs": []
    },
    {
      "cell_type": "code",
      "metadata": {
        "id": "r2ronOtg_JsV"
      },
      "source": [
        "#Placeholder for the training and test spectogram's images\n",
        "#It is going to store the spec, we will shortly generate.\n",
        "os.makedirs('Imgs/Train/', exist_ok=True)\n",
        "os.makedirs('Imgs/Test/', exist_ok=True)"
      ],
      "execution_count": null,
      "outputs": []
    },
    {
      "cell_type": "markdown",
      "metadata": {
        "id": "YloSNB5BvkA_"
      },
      "source": [
        "# **Utilities**"
      ]
    },
    {
      "cell_type": "code",
      "metadata": {
        "id": "6YeVnW1KvZ5K"
      },
      "source": [
        "def show_audio(ad):\n",
        "    sig,sr = ad\n",
        "    ipd.display(ipd.Audio(data=sig, rate=sr))"
      ],
      "execution_count": null,
      "outputs": []
    },
    {
      "cell_type": "code",
      "metadata": {
        "id": "m2wehAHN6xwT"
      },
      "source": [
        "class conf:\n",
        "    sampling_rate = 16000\n",
        "    duration = 3 # sec\n",
        "    hop_length = 128*duration # to make time steps 128\n",
        "    fmin = 20\n",
        "    fmax = sampling_rate // 2\n",
        "    n_mels = 92\n",
        "    n_fft = n_mels * 20\n",
        "    padmode = 'constant'\n",
        "    samples = sampling_rate * duration\n",
        "    ####################### PCEN PARAMS\n",
        "    gain          = 0.6\n",
        "    bias          = 0.1 \n",
        "    power         = 0.2 \n",
        "    time_constant = 0.4 \n",
        "    eps           = 1e-9\n",
        "    \n",
        "def get_default_conf():\n",
        "    return conf\n",
        "\n",
        "conf = get_default_conf()"
      ],
      "execution_count": null,
      "outputs": []
    },
    {
      "cell_type": "code",
      "metadata": {
        "id": "Ixhk4ORmvml5"
      },
      "source": [
        "def melspectogram_PCEN(file_path, cst=5, top_db=80.):\n",
        "  row_sound, sr = librosa.load(file_path,sr=conf.sampling_rate)\n",
        "  sound = np.zeros((cst*sr,))\n",
        "\n",
        "  if row_sound.shape[0] < cst*sr:\n",
        "    sound[:row_sound.shape[0]] = row_sound[:]\n",
        "  else:\n",
        "    sound[:] = row_sound[:cst*sr]\n",
        "\n",
        "  spec = librosa.feature.melspectrogram(sound, \n",
        "                                    sr=conf.sampling_rate,\n",
        "                                    n_mels=conf.n_mels,\n",
        "                                    hop_length=conf.hop_length,\n",
        "                                    n_fft=conf.n_fft,\n",
        "                                    fmin=conf.fmin,\n",
        "                                    fmax=conf.fmax)\n",
        "  spec_pcen = librosa.core.pcen(spec, \n",
        "                                  sr= conf.sampling_rate,\n",
        "                                  hop_length= conf.hop_length,\n",
        "                                  gain= conf.gain,\n",
        "                                  bias= conf.bias,\n",
        "                                  power= conf.power,\n",
        "                                  time_constant = conf.time_constant,\n",
        "                                  eps = conf.eps)\n",
        "  spec_pcen = spec_pcen.astype(np.float32)\n",
        "\n",
        "  return spec_pcen\n",
        "\n",
        "def spec_to_image(spec, eps=1e-6):\n",
        "  mean = spec.mean()\n",
        "  std = spec.std()\n",
        "  spec_norm = (spec - mean) / (std + eps)\n",
        "  spec_min, spec_max = spec_norm.min(), spec_norm.max()\n",
        "  spec_img = 255 * (spec_norm - spec_min) / (spec_max - spec_min)\n",
        "  \n",
        "  return spec_img.astype(np.uint8)\n",
        "\n",
        "def save_spec_image(spec_img, fname):\n",
        "  cv2.imwrite(fname, spec_img)"
      ],
      "execution_count": null,
      "outputs": []
    },
    {
      "cell_type": "code",
      "metadata": {
        "id": "_acZrdh7vmn_"
      },
      "source": [
        "class AudioDataset(torch.utils.data.Dataset):\n",
        "  def __init__(self, df, task='train', size=(300, 230), **kwargs):\n",
        "    super(AudioDataset, self).__init__()\n",
        "    self.df = df\n",
        "    self.task = task\n",
        "    self.size = size\n",
        "    self.c = len(calls)\n",
        "    self.classes = calls\n",
        "\n",
        "  def __len__(self):\n",
        "    return len(self.df)\n",
        "\n",
        "  def __getitem__(self, idx):\n",
        "    fn = self.df.loc[idx, 'spec_name']\n",
        "\n",
        "    spec = cv2.imread(fn, cv2.IMREAD_GRAYSCALE)\n",
        "    spec = cv2.resize(spec, self.size)\n",
        "\n",
        "    output = {\n",
        "        'spec': torch.tensor(spec, dtype=torch.float).unsqueeze(0),\n",
        "    }\n",
        "\n",
        "    if self.task=='train':\n",
        "      output.update({'label': torch.tensor(np.argmax(self.df.iloc[idx,4:].values)) })\n",
        "\n",
        "    return output"
      ],
      "execution_count": null,
      "outputs": []
    },
    {
      "cell_type": "code",
      "metadata": {
        "id": "AqbqIWdLvmqz"
      },
      "source": [
        "class AudioModel(torch.nn.Module):\n",
        "  def __init__(self, arch_name='resnet34',Family=\"resnet\", pretrained=True, fc_size=512, out_size=193, **kwargs):\n",
        "        super(AudioModel, self).__init__()\n",
        "\n",
        "        self.arch = getattr(models, arch_name)(pretrained)\n",
        "\n",
        "        if Family =='Densenet201' :\n",
        "            head = torch.nn.Conv2d(1, 64, kernel_size=(3, 3), stride=(1, 1), padding=(1, 1))\n",
        "            head.weight = torch.nn.Parameter(self.arch.features.conv0.weight.sum(dim=1, keepdim=True))\n",
        "\n",
        "            self.arch.features.conv0 = head\n",
        "            fc_size = self.arch.classifier.in_features\n",
        "            self.arch.classifier = nn.Sequential(nn.Linear(fc_size, 193))\n",
        "        elif Family =='Densenet161' :\n",
        "            head = torch.nn.Conv2d(1,  96, kernel_size=(7, 7), stride=(2, 2), padding=(3, 3))\n",
        "            head.weight = torch.nn.Parameter(self.arch.features.conv0.weight.sum(dim=1, keepdim=True))\n",
        "\n",
        "            self.arch.features.conv0 = head\n",
        "            fc_size = self.arch.classifier.in_features\n",
        "            self.arch.classifier = nn.Sequential(nn.Linear(fc_size, 193))\n",
        "\n",
        "        elif Family =='resnet' :\n",
        "          head = torch.nn.Conv2d(1, 64, kernel_size=(7,7), stride=(2,2), padding=(3,3))\n",
        "          head.weight = torch.nn.Parameter(self.arch.conv1.weight.sum(dim=1, keepdim=True))\n",
        "\n",
        "          self.arch.conv1 = head\n",
        "          fc_size = self.arch.fc.in_features\n",
        "          self.arch.fc = nn.Sequential(nn.Linear(fc_size, 193))\n",
        "\n",
        "  def forward(self, x):\n",
        "    x = self.arch(x)\n",
        "    return x"
      ],
      "execution_count": null,
      "outputs": []
    },
    {
      "cell_type": "code",
      "metadata": {
        "id": "3qUHb1ZiEKUV"
      },
      "source": [
        "class AverageMeter():\n",
        "    \"\"\"Computes and stores the average and current value\"\"\"\n",
        "    def __init__(self):\n",
        "        self.reset()\n",
        "\n",
        "    def reset(self):\n",
        "        self.val = 0\n",
        "        self.avg = 0\n",
        "        self.sum = 0\n",
        "        self.count = 0\n",
        "\n",
        "    def update(self, val, n=1):\n",
        "        self.val = val\n",
        "        self.sum += val * n\n",
        "        self.count += n\n",
        "        self.avg = self.sum / self.count"
      ],
      "execution_count": null,
      "outputs": []
    },
    {
      "cell_type": "code",
      "metadata": {
        "id": "pcdnnpzMEKqE",
        "colab": {
          "base_uri": "https://localhost:8080/"
        },
        "outputId": "31b24462-a847-416a-a37f-e8e0c42fd6c8"
      },
      "source": [
        "device = torch.device(\"cuda\" if torch.cuda.is_available() else \"cpu\")\n",
        "device"
      ],
      "execution_count": null,
      "outputs": [
        {
          "output_type": "execute_result",
          "data": {
            "text/plain": [
              "device(type='cuda')"
            ]
          },
          "metadata": {
            "tags": []
          },
          "execution_count": 15
        }
      ]
    },
    {
      "cell_type": "code",
      "metadata": {
        "id": "d-u7UlK9ENIE"
      },
      "source": [
        "def loss_ce(outputs,targets):\n",
        "  criterion = nn.CrossEntropyLoss()\n",
        "  loss = criterion(outputs,targets)\n",
        "  return loss"
      ],
      "execution_count": null,
      "outputs": []
    },
    {
      "cell_type": "code",
      "metadata": {
        "id": "7nZPlYsmvmtK"
      },
      "source": [
        "def train_fn(train_data_loader,model,optimizer,device,scheduler = None):\n",
        "  model.train()\n",
        "  losses = AverageMeter()\n",
        "  tk0 = tqdm(train_data_loader, total=len(train_data_loader))\n",
        "  tot_loss = 0\n",
        "  for bi,d in enumerate(tk0):\n",
        "    images = d['spec']\n",
        "    labels = d['label']\n",
        "\n",
        "    #send them to device \n",
        "    images = images.to(device,dtype=torch.float)\n",
        "    labels = labels.to(device,dtype=torch.long)\n",
        "    optimizer.zero_grad()\n",
        "\n",
        "    outputs  = model(images)\n",
        "    \n",
        "\n",
        "    if LOSS == 'CE':\n",
        "      loss = loss_ce(outputs,labels)\n",
        "      loss.backward()\n",
        "      optimizer.step()\n",
        "      tot_loss = tot_loss + loss.item()\n",
        "      losses.update(loss.item(), labels.size(0))\n",
        "      tk0.set_postfix(loss_ce=losses.avg)\n",
        "\n",
        "    if scheduler is not None:\n",
        "      scheduler.step()\n",
        "  return losses.avg"
      ],
      "execution_count": null,
      "outputs": []
    },
    {
      "cell_type": "code",
      "metadata": {
        "id": "cbicmkP6wZ8p"
      },
      "source": [
        "def eval_fn(valid_data_loader,model,device):\n",
        "  model.eval()\n",
        "  tot_loss = 0\n",
        "  log_loss_score = 0\n",
        "  final_outputs = []\n",
        "  final_targets = []\n",
        "  valid_preds = []\n",
        "  with torch.no_grad():\n",
        "    for bi,d in enumerate(valid_data_loader):\n",
        "\n",
        "      images = d['spec']\n",
        "      labels = d['label']\n",
        "\n",
        "      #send them to device \n",
        "      images = images.to(device,dtype=torch.float)\n",
        "      labels = labels.to(device,dtype=torch.long)\n",
        "      outputs  = model(images)\n",
        "\n",
        "      if LOSS == 'CE':\n",
        "        loss = loss_ce(outputs,labels)\n",
        "        tot_loss = tot_loss + loss.item()\n",
        "        \n",
        "      final_outputs.extend(torch.nn.functional.softmax(outputs).cpu().detach().numpy())\n",
        "      final_targets.extend(labels.cpu().numpy())\n",
        "      valid_preds.append(torch.nn.functional.softmax(outputs).detach().cpu().numpy())\n",
        "    final_outputs = np.argmax(final_outputs,axis=1) \n",
        "    mean_loss_val  = tot_loss/len(valid_data_loader)\n",
        "    acc_score = sklearn.metrics.accuracy_score(final_targets,final_outputs)\n",
        "    valid_preds = np.concatenate(valid_preds)\n",
        "    print(f\"Validation loss {LOSS} for this epoch: \",mean_loss_val)\n",
        "    print('Validation accuracy for this epoch',acc_score)\n",
        "  return mean_loss_val ,valid_preds"
      ],
      "execution_count": null,
      "outputs": []
    },
    {
      "cell_type": "code",
      "metadata": {
        "id": "zS6mqNACwZ_O"
      },
      "source": [
        "def predict(df, size, bs=2):\n",
        "  test_ds = AudioDataset(df, task='test', size=size)\n",
        "  testloader = torch.utils.data.DataLoader(test_ds, bs, shuffle=False)\n",
        "\n",
        "  predictions_labels = []\n",
        "  predictions_proba = []\n",
        "\n",
        "  out = None\n",
        "\n",
        "  for data in tqdm(testloader):\n",
        "    x = data['spec'].to(device)\n",
        "\n",
        "    for i in range(n_folds):\n",
        "      if i == 0: out = MODELS[i](x)\n",
        "      else: out += MODELS[i](x)\n",
        "\n",
        "    out /= n_folds\n",
        "    \n",
        "    out_labels = out.argmax(1).cpu().detach().numpy()\n",
        "    out = F.softmax(out)\n",
        "    out_probas = out.cpu().detach().numpy()\n",
        "\n",
        "    predictions_labels += out_labels.tolist()\n",
        "    predictions_proba += out_probas.tolist()\n",
        "\n",
        "  return predictions_labels ,predictions_proba"
      ],
      "execution_count": null,
      "outputs": []
    },
    {
      "cell_type": "code",
      "metadata": {
        "id": "AHdWhjG4waBY"
      },
      "source": [
        "def run_fold(fold, bs=16, eval_bs=16, lr=1e-4, size=(500, 230), name='resnet34',Family='resnet',  path='MODELS/'):\n",
        "  best_logloss = np.inf\n",
        "  oof = np.zeros((len(train), 193))\n",
        "\n",
        "  val_idx = train[train.fold == fold].index\n",
        "  fold_train = train[train.fold != fold].reset_index(drop=True)\n",
        "  fold_val = train[train.fold == fold].reset_index(drop=True)\n",
        "\n",
        "  train_ds = AudioDataset(fold_train, size=size)\n",
        "  val_ds = AudioDataset(fold_val, size=size)\n",
        "\n",
        "  trainloader = torch.utils.data.DataLoader(train_ds, batch_size=bs, shuffle=True)\n",
        "  validloader = torch.utils.data.DataLoader(val_ds, batch_size=eval_bs, shuffle=False)\n",
        "\n",
        "  model = AudioModel(name,Family=Family)\n",
        "  criterion = torch.nn.CrossEntropyLoss()\n",
        "  optimizer = torch.optim.AdamW(model.parameters(), lr=lr)\n",
        "  \n",
        "  model.to(device)\n",
        "\n",
        "  loader = tqdm(range(epochs), desc='Training')\n",
        "\n",
        "  for epoch in loader:\n",
        "    print(\"----------------EPOCH \"+str(epoch+1)+\"---------------------\")\n",
        "    logLoss_train = train_fn(trainloader, model, optimizer, device,scheduler=None)\n",
        "    logLoss_val, valid_preds = eval_fn(validloader ,model, device)\n",
        "\n",
        "    if logLoss_val < best_logloss:\n",
        "      oof[val_idx] = valid_preds\n",
        "      best_logloss = logLoss_val\n",
        "      torch.save(model.state_dict(), f'{path}model_state_dict_{fold}.bin')\n",
        "  print(f'best logLoss_val for fold {fold+1}: ',best_logloss)\n",
        "  return best_logloss ,oof"
      ],
      "execution_count": null,
      "outputs": []
    },
    {
      "cell_type": "code",
      "metadata": {
        "id": "S_m3AEBqB2pK"
      },
      "source": [
        "def RUNNN() :\n",
        "  seed_all(SEED_VAL)\n",
        "  avg_logloss = 0\n",
        "  best_fold = 0\n",
        "  fold_logloss = np.inf\n",
        "  oof = np.zeros((len(train), 193))\n",
        "  for fold in range(0,5):\n",
        "    free_memory(sleep_time=0.1)\n",
        "    print(35* '#_#')\n",
        "    print(f'FOLD :: {fold+1} // {n_folds} ')\n",
        "    _fold_logloss ,oof_ = run_fold(fold, size=size, name=NAME,Family=Family,  lr=lr, bs=bs)\n",
        "    avg_logloss += _fold_logloss\n",
        "    oof += oof_\n",
        "    if fold_logloss > _fold_logloss : best_fold = fold\n",
        "\n",
        "  print()\n",
        "  print(\"Avg LogLoss: \", avg_logloss/6)\n",
        "  #return oof"
      ],
      "execution_count": null,
      "outputs": []
    },
    {
      "cell_type": "code",
      "metadata": {
        "id": "SBhsOOdtlNnx"
      },
      "source": [
        "def holdout(fold = 0) :\n",
        "  seed_all(SEED_VAL)\n",
        "  avg_logloss = 0\n",
        "  best_fold = 0\n",
        "  fold_logloss = np.inf\n",
        "  \n",
        "\n",
        "  print(35* '#_#')\n",
        "  print(f'FOLD :: {fold} // {n_folds} ')\n",
        "  _fold_logloss,oof_ = run_fold(fold, size=size, name=NAME,Family=Family,  lr=lr, bs=bs)\n",
        "  print()\n",
        "  print(\"LogLoss: \", _fold_logloss)"
      ],
      "execution_count": null,
      "outputs": []
    },
    {
      "cell_type": "markdown",
      "metadata": {
        "id": "Q46cS7UU9KOj"
      },
      "source": [
        "# **Data-Preparation**"
      ]
    },
    {
      "cell_type": "markdown",
      "metadata": {
        "id": "ms72OoiQ2Ypj"
      },
      "source": [
        "## **data-creation**"
      ]
    },
    {
      "cell_type": "code",
      "metadata": {
        "id": "BPf_Nl_z8HZ7"
      },
      "source": [
        "train = pd.read_csv(\"/content/Train.csv\")\n",
        "test = pd.read_csv(\"/content/SampleSubmission.csv\")\n",
        "submission = pd.read_csv(\"/content/SampleSubmission.csv\")"
      ],
      "execution_count": null,
      "outputs": []
    },
    {
      "cell_type": "code",
      "metadata": {
        "id": "O68pCuxz89ar",
        "colab": {
          "base_uri": "https://localhost:8080/",
          "height": 111
        },
        "outputId": "aaabcb97-ab13-457d-dd45-b599f661f55c"
      },
      "source": [
        "train.head(2)"
      ],
      "execution_count": null,
      "outputs": [
        {
          "output_type": "execute_result",
          "data": {
            "text/html": [
              "<div>\n",
              "<style scoped>\n",
              "    .dataframe tbody tr th:only-of-type {\n",
              "        vertical-align: middle;\n",
              "    }\n",
              "\n",
              "    .dataframe tbody tr th {\n",
              "        vertical-align: top;\n",
              "    }\n",
              "\n",
              "    .dataframe thead th {\n",
              "        text-align: right;\n",
              "    }\n",
              "</style>\n",
              "<table border=\"1\" class=\"dataframe\">\n",
              "  <thead>\n",
              "    <tr style=\"text-align: right;\">\n",
              "      <th></th>\n",
              "      <th>fn</th>\n",
              "      <th>label</th>\n",
              "    </tr>\n",
              "  </thead>\n",
              "  <tbody>\n",
              "    <tr>\n",
              "      <th>0</th>\n",
              "      <td>audio_files/IV38R7F.wav</td>\n",
              "      <td>akawuka</td>\n",
              "    </tr>\n",
              "    <tr>\n",
              "      <th>1</th>\n",
              "      <td>audio_files/KM4SKWT.wav</td>\n",
              "      <td>banana</td>\n",
              "    </tr>\n",
              "  </tbody>\n",
              "</table>\n",
              "</div>"
            ],
            "text/plain": [
              "                        fn    label\n",
              "0  audio_files/IV38R7F.wav  akawuka\n",
              "1  audio_files/KM4SKWT.wav   banana"
            ]
          },
          "metadata": {
            "tags": []
          },
          "execution_count": 24
        }
      ]
    },
    {
      "cell_type": "code",
      "metadata": {
        "id": "7-v1UsUfKnRe"
      },
      "source": [
        "# Add Additional Data\n",
        "path_additional1= '/content/drive/My Drive/Giz_NLP_AUDIO/latest_keywords'\n",
        "Additional_Labels1 = os.listdir(path_additional1)\n",
        "\n",
        "# Add Additional Data 29 octobre\n",
        "path_additional2= '/content/drive/My Drive/Giz_NLP_AUDIO/nlp_keywords_29'\n",
        "Additional_Labels2 = os.listdir(path_additional2)"
      ],
      "execution_count": null,
      "outputs": []
    },
    {
      "cell_type": "code",
      "metadata": {
        "id": "KaZasGsLKimN"
      },
      "source": [
        "def add_data(df,Label,path_additional,n=1) :\n",
        "  additional = pd.DataFrame()\n",
        "  if n==2 :\n",
        "    additional['fn'] =  os.listdir(path_additional + '/' + Label)[1:]\n",
        "    additional['fn'] =  str(path_additional[9:]) + '/' + Label +'/' + additional['fn']\n",
        "    additional['label'] = Label\n",
        "    return pd.concat([df,additional]).reset_index(drop=True)\n",
        "  else :\n",
        "    additional['fn'] =  os.listdir(path_additional + '/' + Label)\n",
        "    additional['fn'] =  str(path_additional[9:]) + '/' + Label +'/' + additional['fn']\n",
        "    additional['label'] = Label\n",
        "    return pd.concat([df,additional]).reset_index(drop=True)"
      ],
      "execution_count": null,
      "outputs": []
    },
    {
      "cell_type": "code",
      "metadata": {
        "id": "Pv2VS4g7KioR"
      },
      "source": [
        "def create_Full_Train(Additional_Labels,path_additional,train=train,n=1) :\n",
        "  for idx_Label in  tqdm(range(len(Additional_Labels))) :\n",
        "    Label  = Additional_Labels[idx_Label]\n",
        "    train = add_data(train,Label,path_additional,n=n)\n",
        "  print('Full_Train_Shape ::' ,train.shape[0])\n",
        "  return train"
      ],
      "execution_count": null,
      "outputs": []
    },
    {
      "cell_type": "code",
      "metadata": {
        "id": "gk81f9YZKirN",
        "colab": {
          "base_uri": "https://localhost:8080/",
          "height": 149,
          "referenced_widgets": [
            "eafadf509657403b8cf76c2cfa0908fd",
            "c04b6ddc6b2743829257489a5867aea6",
            "cf0fde23b213410c98e02317bfdad635",
            "58ed35d37e0742b3b8f40b34250cbcc1",
            "dadb4d4344f64cab89fbd70a865eab7e",
            "6fb8baf8d1f64c7d81d0f0a5e2446c88",
            "76f76cbca23e4180a1296753f552aaba",
            "e778110e4f3c4f27ae5d8a7d07f8b5f5",
            "787e7227a245420dbe313b44ca82df33",
            "94b8f351e8e04fcaa6bc1cd1ae58cbe6",
            "559b5a55100f4855883ee02cebfe5384",
            "9229eb63c21741b189ab6f7dc2af09be",
            "15445879018c4f77bfd303277f8dbd14",
            "0854f03cd38f444c89e3737db1979a8c",
            "8bea532cb8024eccb01806df66e712d7",
            "a36b9444249a405ca5cf6fb10302db84"
          ]
        },
        "outputId": "dcb924bc-d568-40d3-c234-85a24f28c404"
      },
      "source": [
        "train = create_Full_Train(Additional_Labels1,path_additional1,train=train,n=1) \n",
        "train = create_Full_Train(Additional_Labels2,path_additional2,train=train,n=2) "
      ],
      "execution_count": null,
      "outputs": [
        {
          "output_type": "display_data",
          "data": {
            "application/vnd.jupyter.widget-view+json": {
              "model_id": "eafadf509657403b8cf76c2cfa0908fd",
              "version_minor": 0,
              "version_major": 2
            },
            "text/plain": [
              "HBox(children=(FloatProgress(value=0.0, max=129.0), HTML(value='')))"
            ]
          },
          "metadata": {
            "tags": []
          }
        },
        {
          "output_type": "stream",
          "text": [
            "\n",
            "Full_Train_Shape :: 2849\n"
          ],
          "name": "stdout"
        },
        {
          "output_type": "display_data",
          "data": {
            "application/vnd.jupyter.widget-view+json": {
              "model_id": "787e7227a245420dbe313b44ca82df33",
              "version_minor": 0,
              "version_major": 2
            },
            "text/plain": [
              "HBox(children=(FloatProgress(value=0.0, max=122.0), HTML(value='')))"
            ]
          },
          "metadata": {
            "tags": []
          }
        },
        {
          "output_type": "stream",
          "text": [
            "\n",
            "Full_Train_Shape :: 4587\n"
          ],
          "name": "stdout"
        }
      ]
    },
    {
      "cell_type": "code",
      "metadata": {
        "id": "yW5SXySW850_"
      },
      "source": [
        "calls = submission.columns[1:]"
      ],
      "execution_count": null,
      "outputs": []
    },
    {
      "cell_type": "code",
      "metadata": {
        "id": "3CMqijMH_CxN"
      },
      "source": [
        "label = np.linspace(0, len(calls)-1, len(calls), dtype=np.int16)\n",
        "mapper = dict(zip(calls, label))"
      ],
      "execution_count": null,
      "outputs": []
    },
    {
      "cell_type": "code",
      "metadata": {
        "id": "lqPIP0uUxNYN"
      },
      "source": [
        "train['label'] = train['label'].map(mapper).astype(int)"
      ],
      "execution_count": null,
      "outputs": []
    },
    {
      "cell_type": "code",
      "metadata": {
        "id": "1HD1K4HtxmQj"
      },
      "source": [
        "# Add file names\n",
        "def add_file_name(train=train,submission=submission) : \n",
        "  for idx in tqdm(range(1109)) :\n",
        "      train.loc[idx,'spec_name'] = 'Imgs/Train/'+train.loc[idx,'fn'][12:-4]+'.png'\n",
        "  for idx in tqdm(range(1109,len(train))) :\n",
        "      train.loc[idx,'spec_name'] = 'Imgs/Train/'+train.loc[idx,'fn'].split('/')[5][:-4]+'.png'\n",
        "  \n",
        "\n",
        "  submission['spec_name'] = 'Imgs/Test/'+submission['fn'].apply(lambda x : x[12:-4])+'.png'\n",
        "  return train , submission"
      ],
      "execution_count": null,
      "outputs": []
    },
    {
      "cell_type": "code",
      "metadata": {
        "id": "CrRb7dpJQGNv",
        "colab": {
          "base_uri": "https://localhost:8080/",
          "height": 115,
          "referenced_widgets": [
            "63a0f93b24cd4c9198d27ab13f42cfa4",
            "996f63edca594c1cb42a6e31cc8db153",
            "c7249ca435a64f9c9bff5ef014e6d415",
            "70fd1a34c9964b199f31211962bbfaa6",
            "248a4124a29149f5b03918c04a27a586",
            "b42d159647f5499f86348af283c7eae4",
            "42ab4c400da8443bba66dcce43c7bb3c",
            "e5f5d86f8788479ab57562f7cb89dca9",
            "b3566e80d8d44f32b408d9aed4f9647e",
            "523112da66f446d8b0acea37ac14f444",
            "919b6f48b85246f3aa3e3dc7aa611bd7",
            "7da714f25f264a8a9198aa0bf4e26b18",
            "b185a80c407d4a4db2679872289f7d5b",
            "594154720293462ea3f4091a2cf0a9c0",
            "7b62fe3207a54891a020d7e5eda1d28c",
            "b37f8504a5b34590b29432c5a93e0387"
          ]
        },
        "outputId": "82de8af4-9732-4cb0-f1c8-fc9c0c1ebe26"
      },
      "source": [
        "train , submission = add_file_name(train=train,submission=submission)"
      ],
      "execution_count": null,
      "outputs": [
        {
          "output_type": "display_data",
          "data": {
            "application/vnd.jupyter.widget-view+json": {
              "model_id": "63a0f93b24cd4c9198d27ab13f42cfa4",
              "version_minor": 0,
              "version_major": 2
            },
            "text/plain": [
              "HBox(children=(FloatProgress(value=0.0, max=1109.0), HTML(value='')))"
            ]
          },
          "metadata": {
            "tags": []
          }
        },
        {
          "output_type": "stream",
          "text": [
            "\n"
          ],
          "name": "stdout"
        },
        {
          "output_type": "display_data",
          "data": {
            "application/vnd.jupyter.widget-view+json": {
              "model_id": "b3566e80d8d44f32b408d9aed4f9647e",
              "version_minor": 0,
              "version_major": 2
            },
            "text/plain": [
              "HBox(children=(FloatProgress(value=0.0, max=3478.0), HTML(value='')))"
            ]
          },
          "metadata": {
            "tags": []
          }
        },
        {
          "output_type": "stream",
          "text": [
            "\n"
          ],
          "name": "stdout"
        }
      ]
    },
    {
      "cell_type": "markdown",
      "metadata": {
        "id": "h7jQT77fBvul"
      },
      "source": [
        "## **CreateFolds**"
      ]
    },
    {
      "cell_type": "code",
      "metadata": {
        "id": "pTh4_mV-zQ4n"
      },
      "source": [
        "n_folds = 10"
      ],
      "execution_count": null,
      "outputs": []
    },
    {
      "cell_type": "code",
      "metadata": {
        "id": "zSs3ox2pzVHe"
      },
      "source": [
        "train['fold'] = 0\n",
        "\n",
        "fold = StratifiedKFold(n_splits = n_folds, random_state=SEED_VAL,shuffle=True)\n",
        "for i, (tr, vr) in enumerate(fold.split(train, train['label'])):\n",
        "  train.loc[vr, 'fold'] = i"
      ],
      "execution_count": null,
      "outputs": []
    },
    {
      "cell_type": "code",
      "metadata": {
        "id": "udeEPnuoAje2",
        "colab": {
          "base_uri": "https://localhost:8080/",
          "height": 253
        },
        "outputId": "81658a1f-8d62-4602-c216-807bc548c9ba"
      },
      "source": [
        "cols_labels = pd.get_dummies(train['label'] ,prefix='call')\n",
        "train = pd.concat([train,cols_labels],axis=1 ) \n",
        "train.head()"
      ],
      "execution_count": null,
      "outputs": [
        {
          "output_type": "execute_result",
          "data": {
            "text/html": [
              "<div>\n",
              "<style scoped>\n",
              "    .dataframe tbody tr th:only-of-type {\n",
              "        vertical-align: middle;\n",
              "    }\n",
              "\n",
              "    .dataframe tbody tr th {\n",
              "        vertical-align: top;\n",
              "    }\n",
              "\n",
              "    .dataframe thead th {\n",
              "        text-align: right;\n",
              "    }\n",
              "</style>\n",
              "<table border=\"1\" class=\"dataframe\">\n",
              "  <thead>\n",
              "    <tr style=\"text-align: right;\">\n",
              "      <th></th>\n",
              "      <th>fn</th>\n",
              "      <th>label</th>\n",
              "      <th>spec_name</th>\n",
              "      <th>fold</th>\n",
              "      <th>call_0</th>\n",
              "      <th>call_1</th>\n",
              "      <th>call_2</th>\n",
              "      <th>call_3</th>\n",
              "      <th>call_4</th>\n",
              "      <th>call_5</th>\n",
              "      <th>call_6</th>\n",
              "      <th>call_7</th>\n",
              "      <th>call_8</th>\n",
              "      <th>call_9</th>\n",
              "      <th>call_10</th>\n",
              "      <th>call_11</th>\n",
              "      <th>call_12</th>\n",
              "      <th>call_13</th>\n",
              "      <th>call_14</th>\n",
              "      <th>call_15</th>\n",
              "      <th>call_16</th>\n",
              "      <th>call_17</th>\n",
              "      <th>call_18</th>\n",
              "      <th>call_19</th>\n",
              "      <th>call_20</th>\n",
              "      <th>call_21</th>\n",
              "      <th>call_22</th>\n",
              "      <th>call_23</th>\n",
              "      <th>call_24</th>\n",
              "      <th>call_25</th>\n",
              "      <th>call_26</th>\n",
              "      <th>call_27</th>\n",
              "      <th>call_28</th>\n",
              "      <th>call_29</th>\n",
              "      <th>call_30</th>\n",
              "      <th>call_31</th>\n",
              "      <th>call_32</th>\n",
              "      <th>call_33</th>\n",
              "      <th>call_34</th>\n",
              "      <th>call_35</th>\n",
              "      <th>...</th>\n",
              "      <th>call_153</th>\n",
              "      <th>call_154</th>\n",
              "      <th>call_155</th>\n",
              "      <th>call_156</th>\n",
              "      <th>call_157</th>\n",
              "      <th>call_158</th>\n",
              "      <th>call_159</th>\n",
              "      <th>call_160</th>\n",
              "      <th>call_161</th>\n",
              "      <th>call_162</th>\n",
              "      <th>call_163</th>\n",
              "      <th>call_164</th>\n",
              "      <th>call_165</th>\n",
              "      <th>call_166</th>\n",
              "      <th>call_167</th>\n",
              "      <th>call_168</th>\n",
              "      <th>call_169</th>\n",
              "      <th>call_170</th>\n",
              "      <th>call_171</th>\n",
              "      <th>call_172</th>\n",
              "      <th>call_173</th>\n",
              "      <th>call_174</th>\n",
              "      <th>call_175</th>\n",
              "      <th>call_176</th>\n",
              "      <th>call_177</th>\n",
              "      <th>call_178</th>\n",
              "      <th>call_179</th>\n",
              "      <th>call_180</th>\n",
              "      <th>call_181</th>\n",
              "      <th>call_182</th>\n",
              "      <th>call_183</th>\n",
              "      <th>call_184</th>\n",
              "      <th>call_185</th>\n",
              "      <th>call_186</th>\n",
              "      <th>call_187</th>\n",
              "      <th>call_188</th>\n",
              "      <th>call_189</th>\n",
              "      <th>call_190</th>\n",
              "      <th>call_191</th>\n",
              "      <th>call_192</th>\n",
              "    </tr>\n",
              "  </thead>\n",
              "  <tbody>\n",
              "    <tr>\n",
              "      <th>0</th>\n",
              "      <td>audio_files/IV38R7F.wav</td>\n",
              "      <td>189</td>\n",
              "      <td>Imgs/Train/IV38R7F.png</td>\n",
              "      <td>9</td>\n",
              "      <td>0</td>\n",
              "      <td>0</td>\n",
              "      <td>0</td>\n",
              "      <td>0</td>\n",
              "      <td>0</td>\n",
              "      <td>0</td>\n",
              "      <td>0</td>\n",
              "      <td>0</td>\n",
              "      <td>0</td>\n",
              "      <td>0</td>\n",
              "      <td>0</td>\n",
              "      <td>0</td>\n",
              "      <td>0</td>\n",
              "      <td>0</td>\n",
              "      <td>0</td>\n",
              "      <td>0</td>\n",
              "      <td>0</td>\n",
              "      <td>0</td>\n",
              "      <td>0</td>\n",
              "      <td>0</td>\n",
              "      <td>0</td>\n",
              "      <td>0</td>\n",
              "      <td>0</td>\n",
              "      <td>0</td>\n",
              "      <td>0</td>\n",
              "      <td>0</td>\n",
              "      <td>0</td>\n",
              "      <td>0</td>\n",
              "      <td>0</td>\n",
              "      <td>0</td>\n",
              "      <td>0</td>\n",
              "      <td>0</td>\n",
              "      <td>0</td>\n",
              "      <td>0</td>\n",
              "      <td>0</td>\n",
              "      <td>0</td>\n",
              "      <td>...</td>\n",
              "      <td>0</td>\n",
              "      <td>0</td>\n",
              "      <td>0</td>\n",
              "      <td>0</td>\n",
              "      <td>0</td>\n",
              "      <td>0</td>\n",
              "      <td>0</td>\n",
              "      <td>0</td>\n",
              "      <td>0</td>\n",
              "      <td>0</td>\n",
              "      <td>0</td>\n",
              "      <td>0</td>\n",
              "      <td>0</td>\n",
              "      <td>0</td>\n",
              "      <td>0</td>\n",
              "      <td>0</td>\n",
              "      <td>0</td>\n",
              "      <td>0</td>\n",
              "      <td>0</td>\n",
              "      <td>0</td>\n",
              "      <td>0</td>\n",
              "      <td>0</td>\n",
              "      <td>0</td>\n",
              "      <td>0</td>\n",
              "      <td>0</td>\n",
              "      <td>0</td>\n",
              "      <td>0</td>\n",
              "      <td>0</td>\n",
              "      <td>0</td>\n",
              "      <td>0</td>\n",
              "      <td>0</td>\n",
              "      <td>0</td>\n",
              "      <td>0</td>\n",
              "      <td>0</td>\n",
              "      <td>0</td>\n",
              "      <td>0</td>\n",
              "      <td>1</td>\n",
              "      <td>0</td>\n",
              "      <td>0</td>\n",
              "      <td>0</td>\n",
              "    </tr>\n",
              "    <tr>\n",
              "      <th>1</th>\n",
              "      <td>audio_files/KM4SKWT.wav</td>\n",
              "      <td>114</td>\n",
              "      <td>Imgs/Train/KM4SKWT.png</td>\n",
              "      <td>7</td>\n",
              "      <td>0</td>\n",
              "      <td>0</td>\n",
              "      <td>0</td>\n",
              "      <td>0</td>\n",
              "      <td>0</td>\n",
              "      <td>0</td>\n",
              "      <td>0</td>\n",
              "      <td>0</td>\n",
              "      <td>0</td>\n",
              "      <td>0</td>\n",
              "      <td>0</td>\n",
              "      <td>0</td>\n",
              "      <td>0</td>\n",
              "      <td>0</td>\n",
              "      <td>0</td>\n",
              "      <td>0</td>\n",
              "      <td>0</td>\n",
              "      <td>0</td>\n",
              "      <td>0</td>\n",
              "      <td>0</td>\n",
              "      <td>0</td>\n",
              "      <td>0</td>\n",
              "      <td>0</td>\n",
              "      <td>0</td>\n",
              "      <td>0</td>\n",
              "      <td>0</td>\n",
              "      <td>0</td>\n",
              "      <td>0</td>\n",
              "      <td>0</td>\n",
              "      <td>0</td>\n",
              "      <td>0</td>\n",
              "      <td>0</td>\n",
              "      <td>0</td>\n",
              "      <td>0</td>\n",
              "      <td>0</td>\n",
              "      <td>0</td>\n",
              "      <td>...</td>\n",
              "      <td>0</td>\n",
              "      <td>0</td>\n",
              "      <td>0</td>\n",
              "      <td>0</td>\n",
              "      <td>0</td>\n",
              "      <td>0</td>\n",
              "      <td>0</td>\n",
              "      <td>0</td>\n",
              "      <td>0</td>\n",
              "      <td>0</td>\n",
              "      <td>0</td>\n",
              "      <td>0</td>\n",
              "      <td>0</td>\n",
              "      <td>0</td>\n",
              "      <td>0</td>\n",
              "      <td>0</td>\n",
              "      <td>0</td>\n",
              "      <td>0</td>\n",
              "      <td>0</td>\n",
              "      <td>0</td>\n",
              "      <td>0</td>\n",
              "      <td>0</td>\n",
              "      <td>0</td>\n",
              "      <td>0</td>\n",
              "      <td>0</td>\n",
              "      <td>0</td>\n",
              "      <td>0</td>\n",
              "      <td>0</td>\n",
              "      <td>0</td>\n",
              "      <td>0</td>\n",
              "      <td>0</td>\n",
              "      <td>0</td>\n",
              "      <td>0</td>\n",
              "      <td>0</td>\n",
              "      <td>0</td>\n",
              "      <td>0</td>\n",
              "      <td>0</td>\n",
              "      <td>0</td>\n",
              "      <td>0</td>\n",
              "      <td>0</td>\n",
              "    </tr>\n",
              "    <tr>\n",
              "      <th>2</th>\n",
              "      <td>audio_files/F5POSU9.wav</td>\n",
              "      <td>130</td>\n",
              "      <td>Imgs/Train/F5POSU9.png</td>\n",
              "      <td>5</td>\n",
              "      <td>0</td>\n",
              "      <td>0</td>\n",
              "      <td>0</td>\n",
              "      <td>0</td>\n",
              "      <td>0</td>\n",
              "      <td>0</td>\n",
              "      <td>0</td>\n",
              "      <td>0</td>\n",
              "      <td>0</td>\n",
              "      <td>0</td>\n",
              "      <td>0</td>\n",
              "      <td>0</td>\n",
              "      <td>0</td>\n",
              "      <td>0</td>\n",
              "      <td>0</td>\n",
              "      <td>0</td>\n",
              "      <td>0</td>\n",
              "      <td>0</td>\n",
              "      <td>0</td>\n",
              "      <td>0</td>\n",
              "      <td>0</td>\n",
              "      <td>0</td>\n",
              "      <td>0</td>\n",
              "      <td>0</td>\n",
              "      <td>0</td>\n",
              "      <td>0</td>\n",
              "      <td>0</td>\n",
              "      <td>0</td>\n",
              "      <td>0</td>\n",
              "      <td>0</td>\n",
              "      <td>0</td>\n",
              "      <td>0</td>\n",
              "      <td>0</td>\n",
              "      <td>0</td>\n",
              "      <td>0</td>\n",
              "      <td>0</td>\n",
              "      <td>...</td>\n",
              "      <td>0</td>\n",
              "      <td>0</td>\n",
              "      <td>0</td>\n",
              "      <td>0</td>\n",
              "      <td>0</td>\n",
              "      <td>0</td>\n",
              "      <td>0</td>\n",
              "      <td>0</td>\n",
              "      <td>0</td>\n",
              "      <td>0</td>\n",
              "      <td>0</td>\n",
              "      <td>0</td>\n",
              "      <td>0</td>\n",
              "      <td>0</td>\n",
              "      <td>0</td>\n",
              "      <td>0</td>\n",
              "      <td>0</td>\n",
              "      <td>0</td>\n",
              "      <td>0</td>\n",
              "      <td>0</td>\n",
              "      <td>0</td>\n",
              "      <td>0</td>\n",
              "      <td>0</td>\n",
              "      <td>0</td>\n",
              "      <td>0</td>\n",
              "      <td>0</td>\n",
              "      <td>0</td>\n",
              "      <td>0</td>\n",
              "      <td>0</td>\n",
              "      <td>0</td>\n",
              "      <td>0</td>\n",
              "      <td>0</td>\n",
              "      <td>0</td>\n",
              "      <td>0</td>\n",
              "      <td>0</td>\n",
              "      <td>0</td>\n",
              "      <td>0</td>\n",
              "      <td>0</td>\n",
              "      <td>0</td>\n",
              "      <td>0</td>\n",
              "    </tr>\n",
              "    <tr>\n",
              "      <th>3</th>\n",
              "      <td>audio_files/MMVDXG2.wav</td>\n",
              "      <td>136</td>\n",
              "      <td>Imgs/Train/MMVDXG2.png</td>\n",
              "      <td>1</td>\n",
              "      <td>0</td>\n",
              "      <td>0</td>\n",
              "      <td>0</td>\n",
              "      <td>0</td>\n",
              "      <td>0</td>\n",
              "      <td>0</td>\n",
              "      <td>0</td>\n",
              "      <td>0</td>\n",
              "      <td>0</td>\n",
              "      <td>0</td>\n",
              "      <td>0</td>\n",
              "      <td>0</td>\n",
              "      <td>0</td>\n",
              "      <td>0</td>\n",
              "      <td>0</td>\n",
              "      <td>0</td>\n",
              "      <td>0</td>\n",
              "      <td>0</td>\n",
              "      <td>0</td>\n",
              "      <td>0</td>\n",
              "      <td>0</td>\n",
              "      <td>0</td>\n",
              "      <td>0</td>\n",
              "      <td>0</td>\n",
              "      <td>0</td>\n",
              "      <td>0</td>\n",
              "      <td>0</td>\n",
              "      <td>0</td>\n",
              "      <td>0</td>\n",
              "      <td>0</td>\n",
              "      <td>0</td>\n",
              "      <td>0</td>\n",
              "      <td>0</td>\n",
              "      <td>0</td>\n",
              "      <td>0</td>\n",
              "      <td>0</td>\n",
              "      <td>...</td>\n",
              "      <td>0</td>\n",
              "      <td>0</td>\n",
              "      <td>0</td>\n",
              "      <td>0</td>\n",
              "      <td>0</td>\n",
              "      <td>0</td>\n",
              "      <td>0</td>\n",
              "      <td>0</td>\n",
              "      <td>0</td>\n",
              "      <td>0</td>\n",
              "      <td>0</td>\n",
              "      <td>0</td>\n",
              "      <td>0</td>\n",
              "      <td>0</td>\n",
              "      <td>0</td>\n",
              "      <td>0</td>\n",
              "      <td>0</td>\n",
              "      <td>0</td>\n",
              "      <td>0</td>\n",
              "      <td>0</td>\n",
              "      <td>0</td>\n",
              "      <td>0</td>\n",
              "      <td>0</td>\n",
              "      <td>0</td>\n",
              "      <td>0</td>\n",
              "      <td>0</td>\n",
              "      <td>0</td>\n",
              "      <td>0</td>\n",
              "      <td>0</td>\n",
              "      <td>0</td>\n",
              "      <td>0</td>\n",
              "      <td>0</td>\n",
              "      <td>0</td>\n",
              "      <td>0</td>\n",
              "      <td>0</td>\n",
              "      <td>0</td>\n",
              "      <td>0</td>\n",
              "      <td>0</td>\n",
              "      <td>0</td>\n",
              "      <td>0</td>\n",
              "    </tr>\n",
              "    <tr>\n",
              "      <th>4</th>\n",
              "      <td>audio_files/9TVM96F.wav</td>\n",
              "      <td>83</td>\n",
              "      <td>Imgs/Train/9TVM96F.png</td>\n",
              "      <td>1</td>\n",
              "      <td>0</td>\n",
              "      <td>0</td>\n",
              "      <td>0</td>\n",
              "      <td>0</td>\n",
              "      <td>0</td>\n",
              "      <td>0</td>\n",
              "      <td>0</td>\n",
              "      <td>0</td>\n",
              "      <td>0</td>\n",
              "      <td>0</td>\n",
              "      <td>0</td>\n",
              "      <td>0</td>\n",
              "      <td>0</td>\n",
              "      <td>0</td>\n",
              "      <td>0</td>\n",
              "      <td>0</td>\n",
              "      <td>0</td>\n",
              "      <td>0</td>\n",
              "      <td>0</td>\n",
              "      <td>0</td>\n",
              "      <td>0</td>\n",
              "      <td>0</td>\n",
              "      <td>0</td>\n",
              "      <td>0</td>\n",
              "      <td>0</td>\n",
              "      <td>0</td>\n",
              "      <td>0</td>\n",
              "      <td>0</td>\n",
              "      <td>0</td>\n",
              "      <td>0</td>\n",
              "      <td>0</td>\n",
              "      <td>0</td>\n",
              "      <td>0</td>\n",
              "      <td>0</td>\n",
              "      <td>0</td>\n",
              "      <td>0</td>\n",
              "      <td>...</td>\n",
              "      <td>0</td>\n",
              "      <td>0</td>\n",
              "      <td>0</td>\n",
              "      <td>0</td>\n",
              "      <td>0</td>\n",
              "      <td>0</td>\n",
              "      <td>0</td>\n",
              "      <td>0</td>\n",
              "      <td>0</td>\n",
              "      <td>0</td>\n",
              "      <td>0</td>\n",
              "      <td>0</td>\n",
              "      <td>0</td>\n",
              "      <td>0</td>\n",
              "      <td>0</td>\n",
              "      <td>0</td>\n",
              "      <td>0</td>\n",
              "      <td>0</td>\n",
              "      <td>0</td>\n",
              "      <td>0</td>\n",
              "      <td>0</td>\n",
              "      <td>0</td>\n",
              "      <td>0</td>\n",
              "      <td>0</td>\n",
              "      <td>0</td>\n",
              "      <td>0</td>\n",
              "      <td>0</td>\n",
              "      <td>0</td>\n",
              "      <td>0</td>\n",
              "      <td>0</td>\n",
              "      <td>0</td>\n",
              "      <td>0</td>\n",
              "      <td>0</td>\n",
              "      <td>0</td>\n",
              "      <td>0</td>\n",
              "      <td>0</td>\n",
              "      <td>0</td>\n",
              "      <td>0</td>\n",
              "      <td>0</td>\n",
              "      <td>0</td>\n",
              "    </tr>\n",
              "  </tbody>\n",
              "</table>\n",
              "<p>5 rows × 197 columns</p>\n",
              "</div>"
            ],
            "text/plain": [
              "                        fn  label  ... call_191  call_192\n",
              "0  audio_files/IV38R7F.wav    189  ...        0         0\n",
              "1  audio_files/KM4SKWT.wav    114  ...        0         0\n",
              "2  audio_files/F5POSU9.wav    130  ...        0         0\n",
              "3  audio_files/MMVDXG2.wav    136  ...        0         0\n",
              "4  audio_files/9TVM96F.wav     83  ...        0         0\n",
              "\n",
              "[5 rows x 197 columns]"
            ]
          },
          "metadata": {
            "tags": []
          },
          "execution_count": 36
        }
      ]
    },
    {
      "cell_type": "code",
      "metadata": {
        "id": "LfreXN-JzNRn"
      },
      "source": [
        "train.to_csv('final_train.csv',index=False)\n",
        "submission.to_csv('final_test.csv',index=False)"
      ],
      "execution_count": null,
      "outputs": []
    },
    {
      "cell_type": "markdown",
      "metadata": {
        "id": "b95OFl849OgV"
      },
      "source": [
        "# **Training**"
      ]
    },
    {
      "cell_type": "code",
      "metadata": {
        "id": "sDycbv4blhWz"
      },
      "source": [
        "train = pd.read_csv('final_train.csv')\n",
        "submission = pd.read_csv('final_test.csv')"
      ],
      "execution_count": null,
      "outputs": []
    },
    {
      "cell_type": "code",
      "metadata": {
        "id": "E_GLWw9fvZQI"
      },
      "source": [
        "# if you already prepare the spec folders just unzip :)\n",
        "!unzip -q  '/content/drive/My Drive/Giz_NLP_AUDIO/PCEN_92x128.zip'"
      ],
      "execution_count": null,
      "outputs": []
    },
    {
      "cell_type": "code",
      "metadata": {
        "id": "2gFhrHdimjrU"
      },
      "source": [
        "import gc\n",
        "import time\n",
        "def free_memory(sleep_time=0.1):\n",
        "    \"\"\" Black magic function to free torch memory and some jupyter whims \"\"\"\n",
        "    gc.collect()\n",
        "    torch.cuda.synchronize()\n",
        "    gc.collect()\n",
        "    torch.cuda.empty_cache()\n",
        "    time.sleep(sleep_time)"
      ],
      "execution_count": null,
      "outputs": []
    },
    {
      "cell_type": "markdown",
      "metadata": {
        "id": "YR1LH0vy2PwO"
      },
      "source": [
        "## **10Fold**"
      ]
    },
    {
      "cell_type": "code",
      "metadata": {
        "id": "xZ9n7yMf8l_O"
      },
      "source": [
        "calls = pd.read_csv('/content/SampleSubmission.csv').columns[1:]\n",
        "Family='resnet'\n",
        "n_folds = 10\n",
        "epochs = 20\n",
        "device = 'cuda'\n",
        "size = (512,92)\n",
        "NAME='resnext101_32x8d'\n",
        "bs = 10\n",
        "lr = 0.0001\n",
        "LOSS = 'CE'"
      ],
      "execution_count": null,
      "outputs": []
    },
    {
      "cell_type": "code",
      "metadata": {
        "id": "mL0gkkcI2PwS"
      },
      "source": [
        "RUNNN()"
      ],
      "execution_count": null,
      "outputs": []
    },
    {
      "cell_type": "code",
      "metadata": {
        "id": "wdKoIDixSNa8"
      },
      "source": [
        "!cp /content/MODELS/model_state_dict_0.bin  \"/content/drive/MyDrive/Giz_NLP_AUDIO/Resnext101_PCEN\"\n",
        "!cp /content/MODELS/model_state_dict_1.bin  \"/content/drive/MyDrive/Giz_NLP_AUDIO/Resnext101_PCEN\"\n",
        "!cp /content/MODELS/model_state_dict_2.bin  \"/content/drive/MyDrive/Giz_NLP_AUDIO/Resnext101_PCEN\"\n",
        "!cp /content/MODELS/model_state_dict_3.bin  \"/content/drive/MyDrive/Giz_NLP_AUDIO/Resnext101_PCEN\"\n",
        "!cp /content/MODELS/model_state_dict_4.bin  \"/content/drive/MyDrive/Giz_NLP_AUDIO/Resnext101_PCEN\""
      ],
      "execution_count": null,
      "outputs": []
    }
  ]
}